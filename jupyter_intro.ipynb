{
 "cells": [
  {
   "cell_type": "markdown",
   "metadata": {
    "id": "ZX6M7xdN4B0e"
   },
   "source": [
    "# CS 124: Python and Jupyter Tutorial\n",
    "\n",
    "**Created by** Krishna Patel (Winter 2020)\n",
    "**Updated by** Bryan Kim (Winter 2021) and Dilara Soylu (Fall 2021)"
   ]
  },
  {
   "cell_type": "markdown",
   "metadata": {},
   "source": [
    "Welcome to `CS 124`! This notebook consists of 3 parts:\n",
    "* `Jupyter Notebooks`: We will walk you through how to use `Jupyter Notebooks`, which we will use for our assignments in `CS 124`. \n",
    "* `Python Exercises`: We will go through some `Python` exercises to reinforce a couple important concepts. \n",
    "* `Regular Expression Exercises`: We will work through some `Regular Expression` examples as a preparation for our next assignment, `PA1`. \n",
    "\n",
    "We will end with a final note touching on some quirks of `Jupyter Notebooks`, which will be important for debugging your assignments. Let's dive in!"
   ]
  },
  {
   "cell_type": "markdown",
   "metadata": {
    "pycharm": {
     "name": "#%% md\n"
    }
   },
   "source": [
    "## Part 1. Jupyter Notebooks\n",
    "\n",
    "__Feel free to skip this section is you already have experience with Jupyter Notebooks.__ `Jupyter Notebooks` are similar to `Python` scripts, except that they are comprised\n",
    "of cells of `Python` code or text that can be run and modified separately and\n",
    "out-of-order. They provide an easy way to modify and test code snippets, or to\n",
    "provide explanations and visualizations to accompany your code. `Jupyter Notebooks` contain two types of cells:\n",
    "\n",
    "* `Markdown` Cells\n",
    "* `Code` Cells"
   ]
  },
  {
   "cell_type": "markdown",
   "metadata": {},
   "source": [
    "__Editing Markdown Cells__ You can edit `Markdown` cells by double clicking them or hitting the `Enter` key while they are selected. In general, you shouldn't need to do this on any of the assignments, since we will only grade your code."
   ]
  },
  {
   "cell_type": "markdown",
   "metadata": {},
   "source": [
    "This cell is an example `Markdown` cell. "
   ]
  },
  {
   "cell_type": "markdown",
   "metadata": {},
   "source": [
    "__Running Code Cells__ You can run `Code` cells by selecting them and clicking the run button (`▶ Run`) in the top toolbar. You can also run `Code` cells by hitting `CTRL + Enter` or `Command + Enter` if you are on a `Mac`. If you also want your cursor to advance to the next cell, you can use `Shift + Enter`. The output of the code, such as `print` statements, will be shown below the cell after it is run. You can use the arrow keys to navigate between cells."
   ]
  },
  {
   "cell_type": "code",
   "execution_count": null,
   "metadata": {
    "scrolled": true
   },
   "outputs": [],
   "source": [
    "# This is cell is an example Code cell\n",
    "print(\"I can run code!\")"
   ]
  },
  {
   "cell_type": "markdown",
   "metadata": {
    "pycharm": {
     "name": "#%% md\n"
    }
   },
   "source": [
    "Alternatively, if the last line of a cell is a variable, the value of the variable will be printed as the output. "
   ]
  },
  {
   "cell_type": "code",
   "execution_count": null,
   "metadata": {
    "pycharm": {
     "name": "#%%\n"
    }
   },
   "outputs": [],
   "source": [
    "var = \"I am a string.\"\n",
    "var"
   ]
  },
  {
   "cell_type": "markdown",
   "metadata": {
    "pycharm": {
     "name": "#%% md\n"
    }
   },
   "source": [
    "__Adding New Cells__ To add new cells, you can hit the `+` button in the top toolbar, or select `Inser Cell Above` or `Below` options in the `Insert` menu item. You can also use the shortcuts `A` to inser a cell above the current cell, and `B` to insert a cell below. By default, a newly created cell will be a code cell. You can change the type of a cell via the dropdown in the toolbar or by selecting it and hitting `Y` for `Code`, and `M` for `Markdown`. You can also quickly delete cells by hitting `D` twice (`D + D`). "
   ]
  },
  {
   "cell_type": "markdown",
   "metadata": {},
   "source": [
    "__Notebook Kernel__ Notebook `Kernel` is the piece of program that executes the code in your notebook. You can see the current `Kernel` on the top right of the notebook, which should say `Python [conda env:cs124]` if you started `Jupyter` after you activated the `cs124 conda` environment in your terminal. This means that the notebook is using the `Python` installation in our `conda` environment, which is the correct version of the `Python` (`Python 3.8`) we expect you to use in the assignments. This also ensures that the versions of the external libraries used in the assignments, such as `NumPy`, are the same for everyone in the class.\n",
    "\n",
    "One of the common mistakes students run into is forgetting to activate our `conda` environment before starting to work on the assignments. In such cases, you may see `Python` complaining about not finding a module, or a specific method from a specific version of a module. It is always a good idea to ensure that your notebook is running the correct `Kernel` such cases."
   ]
  },
  {
   "cell_type": "markdown",
   "metadata": {},
   "source": [
    "__Interrupting the Kernel__ You may want to interrupt the execution of your code in some cases, like the example below. To stop the `Kernel`, you can click on the interrupt button (`■`) in the toolbar or select the `Interrupt` option in the `Kernel` menu item. "
   ]
  },
  {
   "cell_type": "code",
   "execution_count": null,
   "metadata": {},
   "outputs": [],
   "source": [
    "# Code that will run forever\n",
    "while True:\n",
    "    pass"
   ]
  },
  {
   "cell_type": "markdown",
   "metadata": {},
   "source": [
    "__Restarting the Kernel__ Because you can execute cells in any order you want in a notebook, you may find that some cells work differently when you run them after running other cells. We have provided one such example below. It is good to restart your `Kernel` in such cases to start with a clean state. You can restart your `Kernel` by clicking on the restart button (`⟳`) in the toolbar or by selecting the `Restart` option in the `Kernel` menu item. Once you are done with your assignments, we recommend restarting your `Kernel` and running your cells in sequential order to make sure your code works as you intended. \n",
    "\n",
    "You can restart the kernel and run all the cells in-order in one go by using the fast-forward button on the toolbar, or selecting the `Restart & Run All` option in the `Kernel` menu item."
   ]
  },
  {
   "cell_type": "code",
   "execution_count": null,
   "metadata": {},
   "outputs": [],
   "source": [
    "# Initialize a variable\n",
    "a = 2"
   ]
  },
  {
   "cell_type": "code",
   "execution_count": null,
   "metadata": {},
   "outputs": [],
   "source": [
    "# Perform an operation on the variable assuming it exists in the memory\n",
    "4 / a"
   ]
  },
  {
   "cell_type": "code",
   "execution_count": null,
   "metadata": {},
   "outputs": [],
   "source": [
    "# Delete the variable and execute the cell immediately above this one\n",
    "# You will get a NameError\n",
    "del a"
   ]
  },
  {
   "cell_type": "markdown",
   "metadata": {
    "pycharm": {
     "name": "#%% md\n"
    }
   },
   "source": [
    "__Saving Your Work__ `Jupyter Notebook` automatically saves your changes once every `120 seconds`, but\n",
    "to be safe we recommend saving frequently as you make changes. You can\n",
    "save with the save button in the top toolbar or the usual shortcut\n",
    "(`CTRL + S` or `Command + S`)."
   ]
  },
  {
   "cell_type": "markdown",
   "metadata": {
    "pycharm": {
     "name": "#%% md\n"
    }
   },
   "source": [
    "__Congratulation on Finishing this Part!__ This should cover everything you need to know to get started! There is more information on some of the confusing aspects of `Jupyter` at the end if you get to `Python Exercise 7`.\n",
    "\n",
    "You can find the list of all shortcuts by hitting `H` if you ever need a reference!"
   ]
  },
  {
   "cell_type": "markdown",
   "metadata": {},
   "source": [
    "## Part 2. Python Exercises\n",
    "\n",
    "We will cover some `Python` exercises in this section as a refresher! Let's get started. "
   ]
  },
  {
   "cell_type": "markdown",
   "metadata": {
    "pycharm": {
     "name": "#%% md\n"
    }
   },
   "source": [
    "### Environment Check\n",
    "\n",
    "You will see an environment check at the beginning of your assignment notebooks. As explained earlier, this is important to ensure that you are running the correct version of `Python` in the right environment!"
   ]
  },
  {
   "cell_type": "code",
   "execution_count": 76,
   "metadata": {
    "pycharm": {
     "name": "#%%\n"
    }
   },
   "outputs": [],
   "source": [
    "# Check the name of the conda environment\n",
    "import os\n",
    "assert os.environ['CONDA_DEFAULT_ENV'] == \"cs124\"\n",
    "\n",
    "# Check that the Python version is 3.8\n",
    "import sys\n",
    "assert sys.version_info.major == 3 and sys.version_info.minor == 8"
   ]
  },
  {
   "cell_type": "markdown",
   "metadata": {
    "pycharm": {
     "name": "#%% md\n"
    }
   },
   "source": [
    "If the above cell causes an error, it means that you're using the wrong environment or `Python` version! If you get an error, go to the terminal from which you ran the `jupyter notebook` command, and kill notebook server by hitting `CTRL + C` or `Command + C`. You will be asked whether you want to shutdown the notebook server, to which you should respond with a `y`. \n",
    "\n",
    "You can then activate the correct environment by running the below command in your terminal.\n",
    "\n",
    "`$ conda activate cs124`\n",
    "\n",
    "Once the you are in the correct environment, you can start the notebook again with the below command. \n",
    "\n",
    "`$ jupyter notebook`\n",
    "\n",
    "If you get the same error, you should go back and follow the setup and installation\n",
    "instructions in the README.md file that came with this notebook."
   ]
  },
  {
   "cell_type": "markdown",
   "metadata": {},
   "source": [
    "__which command__ Another way to check whether `Jupyter` is running your intended installation of `Python` is through the `which` terminal command, which helps us find the program ran by our terminal given a keyboard. Note that `Jupyter Notebook` cells are intended to contain `Python` code. We can tell `Jupyter` that we want run our command outside of the notebook by using the exclamation mark (`!`). The output of the below cell shows us the location of the `Python` installation used to run the cells in the notebook. "
   ]
  },
  {
   "cell_type": "code",
   "execution_count": 77,
   "metadata": {
    "scrolled": false
   },
   "outputs": [
    {
     "name": "stdout",
     "output_type": "stream",
     "text": [
      "/Users/dilara/.miniconda3/miniconda3/envs/cs124/bin/python\r\n"
     ]
    }
   ],
   "source": [
    "!which python"
   ]
  },
  {
   "cell_type": "markdown",
   "metadata": {},
   "source": [
    "The expected output of the above cell will be different based on your username and your `miniconda` install location, but it will contain a substring similar to `/miniconda3/envs/cs124/bin/python`. "
   ]
  },
  {
   "cell_type": "markdown",
   "metadata": {
    "id": "A2G5nuI04XHB"
   },
   "source": [
    "### Exercise 1: `Booleans`\n",
    "\n",
    "Explore the __truthiness__ and __falseness__ of different values using the `bool()` function, which converts inputs into `Boolean` values. "
   ]
  },
  {
   "cell_type": "code",
   "execution_count": 78,
   "metadata": {
    "colab": {
     "base_uri": "https://localhost:8080/",
     "height": 55
    },
    "executionInfo": {
     "elapsed": 840,
     "status": "ok",
     "timestamp": 1579043550321,
     "user": {
      "displayName": "Krishna Kartik Patel",
      "photoUrl": "",
      "userId": "00785950259150756327"
     },
     "user_tz": 480
    },
    "id": "IOpKcLfC4F0j",
    "outputId": "abdd1d26-83f2-4de1-85b3-1cb363e50193"
   },
   "outputs": [
    {
     "data": {
      "text/plain": [
       "True"
      ]
     },
     "execution_count": 78,
     "metadata": {},
     "output_type": "execute_result"
    }
   ],
   "source": [
    "# Boolean value of True is True\n",
    "bool(True)"
   ]
  },
  {
   "cell_type": "code",
   "execution_count": 79,
   "metadata": {
    "colab": {
     "base_uri": "https://localhost:8080/",
     "height": 55
    },
    "executionInfo": {
     "elapsed": 421,
     "status": "ok",
     "timestamp": 1579043556471,
     "user": {
      "displayName": "Krishna Kartik Patel",
      "photoUrl": "",
      "userId": "00785950259150756327"
     },
     "user_tz": 480
    },
    "id": "R7Jofiqq4qB4",
    "outputId": "da5abddb-913c-4cf3-9d36-85a24979963e"
   },
   "outputs": [
    {
     "data": {
      "text/plain": [
       "False"
      ]
     },
     "execution_count": 79,
     "metadata": {},
     "output_type": "execute_result"
    }
   ],
   "source": [
    "# Boolean value of False is False\n",
    "bool(False)"
   ]
  },
  {
   "cell_type": "code",
   "execution_count": 80,
   "metadata": {
    "colab": {
     "base_uri": "https://localhost:8080/",
     "height": 55
    },
    "executionInfo": {
     "elapsed": 553,
     "status": "ok",
     "timestamp": 1579043561100,
     "user": {
      "displayName": "Krishna Kartik Patel",
      "photoUrl": "",
      "userId": "00785950259150756327"
     },
     "user_tz": 480
    },
    "id": "3Fwig5FK4sw-",
    "outputId": "64a2f81e-f063-42c3-91ed-00c73e3d31e6"
   },
   "outputs": [
    {
     "data": {
      "text/plain": [
       "True"
      ]
     },
     "execution_count": 80,
     "metadata": {},
     "output_type": "execute_result"
    }
   ],
   "source": [
    "# True is equivalent to 1 in Python\n",
    "True == 1"
   ]
  },
  {
   "cell_type": "code",
   "execution_count": 81,
   "metadata": {
    "colab": {
     "base_uri": "https://localhost:8080/",
     "height": 55
    },
    "executionInfo": {
     "elapsed": 840,
     "status": "ok",
     "timestamp": 1579043566513,
     "user": {
      "displayName": "Krishna Kartik Patel",
      "photoUrl": "",
      "userId": "00785950259150756327"
     },
     "user_tz": 480
    },
    "id": "g0B1Zxi74uAa",
    "outputId": "6a99556e-b05d-4eb1-a07b-22cb23e72ea5"
   },
   "outputs": [
    {
     "data": {
      "text/plain": [
       "True"
      ]
     },
     "execution_count": 81,
     "metadata": {},
     "output_type": "execute_result"
    }
   ],
   "source": [
    "# False is equivalent to 0 in Python\n",
    "False == 0"
   ]
  },
  {
   "cell_type": "code",
   "execution_count": 82,
   "metadata": {
    "colab": {
     "base_uri": "https://localhost:8080/",
     "height": 55
    },
    "executionInfo": {
     "elapsed": 866,
     "status": "ok",
     "timestamp": 1579043578266,
     "user": {
      "displayName": "Krishna Kartik Patel",
      "photoUrl": "",
      "userId": "00785950259150756327"
     },
     "user_tz": 480
    },
    "id": "pZErtBzr40Vm",
    "outputId": "e19302e6-ff9b-46d7-a440-2e0ef61e9128"
   },
   "outputs": [
    {
     "data": {
      "text/plain": [
       "True"
      ]
     },
     "execution_count": 82,
     "metadata": {},
     "output_type": "execute_result"
    }
   ],
   "source": [
    "# Boolean value of any non-zero number is True\n",
    "bool(8)"
   ]
  },
  {
   "cell_type": "code",
   "execution_count": 83,
   "metadata": {},
   "outputs": [
    {
     "data": {
      "text/plain": [
       "True"
      ]
     },
     "execution_count": 83,
     "metadata": {},
     "output_type": "execute_result"
    }
   ],
   "source": [
    "# Boolean value of any non-zero number is True\n",
    "bool(-1)"
   ]
  },
  {
   "cell_type": "code",
   "execution_count": 84,
   "metadata": {
    "colab": {
     "base_uri": "https://localhost:8080/",
     "height": 55
    },
    "executionInfo": {
     "elapsed": 509,
     "status": "ok",
     "timestamp": 1579043583118,
     "user": {
      "displayName": "Krishna Kartik Patel",
      "photoUrl": "",
      "userId": "00785950259150756327"
     },
     "user_tz": 480
    },
    "id": "m44s87UQ47jz",
    "outputId": "1c18b580-9cfc-4754-c263-ce195568f701"
   },
   "outputs": [
    {
     "data": {
      "text/plain": [
       "False"
      ]
     },
     "execution_count": 84,
     "metadata": {},
     "output_type": "execute_result"
    }
   ],
   "source": [
    "# Boolean value of None is False\n",
    "bool(None) "
   ]
  },
  {
   "cell_type": "code",
   "execution_count": 85,
   "metadata": {
    "id": "u3KtiKEp5Auw"
   },
   "outputs": [
    {
     "data": {
      "text/plain": [
       "False"
      ]
     },
     "execution_count": 85,
     "metadata": {},
     "output_type": "execute_result"
    }
   ],
   "source": [
    "# Boolean value of the empty objects (empty list etc.) are False\n",
    "bool([])"
   ]
  },
  {
   "cell_type": "code",
   "execution_count": 86,
   "metadata": {
    "id": "dMG-Kzah5Si7"
   },
   "outputs": [
    {
     "data": {
      "text/plain": [
       "True"
      ]
     },
     "execution_count": 86,
     "metadata": {},
     "output_type": "execute_result"
    }
   ],
   "source": [
    "# Boolean value of non-empty objects are True\n",
    "bool([1,2])"
   ]
  },
  {
   "cell_type": "code",
   "execution_count": 87,
   "metadata": {
    "id": "a7xKOatG5dg_"
   },
   "outputs": [
    {
     "name": "stdout",
     "output_type": "stream",
     "text": [
      "The boolean value of x is False.\n",
      "x is False\n"
     ]
    }
   ],
   "source": [
    "# See how these properties come in handy for list operations\n",
    "\n",
    "# If x is a list:\n",
    "# * It must containt at least one element for its truth value to be True\n",
    "# * It must be None or empty for its truth value to be False\n",
    "\n",
    "x = []\n",
    "print(f\"The boolean value of x is {bool(x)}.\")\n",
    "\n",
    "if x:\n",
    "  print(\"x is True\")\n",
    "else:\n",
    "  print(\"x is False\")"
   ]
  },
  {
   "cell_type": "markdown",
   "metadata": {
    "id": "TSiHJHaP6e4w"
   },
   "source": [
    "### Exercise 2: Looping Issues\n",
    "\n",
    "Explore the following code to see why modifying the object you are looping over is dangerous."
   ]
  },
  {
   "cell_type": "code",
   "execution_count": 88,
   "metadata": {
    "colab": {
     "base_uri": "https://localhost:8080/",
     "height": 161
    },
    "executionInfo": {
     "elapsed": 913,
     "status": "ok",
     "timestamp": 1579043976685,
     "user": {
      "displayName": "Krishna Kartik Patel",
      "photoUrl": "",
      "userId": "00785950259150756327"
     },
     "user_tz": 480
    },
    "id": "ihkmkFdJ6Ju-",
    "outputId": "5001647d-ed38-442c-b3f2-f9d942025b26"
   },
   "outputs": [
    {
     "name": "stdout",
     "output_type": "stream",
     "text": [
      "hello\n",
      "Current state of greetings: ['hi', 'salve', 'ciao', 'bonjour', 'hola', 'merhaba', 'hallo']\n",
      "salve\n",
      "Current state of greetings: ['salve', 'ciao', 'bonjour', 'hola', 'merhaba', 'hallo']\n",
      "bonjour\n",
      "Current state of greetings: ['ciao', 'bonjour', 'hola', 'merhaba', 'hallo']\n",
      "merhaba\n",
      "Current state of greetings: ['bonjour', 'hola', 'merhaba', 'hallo']\n",
      "Final state of greetings: ['bonjour', 'hola', 'merhaba', 'hallo']\n"
     ]
    }
   ],
   "source": [
    "# This code attempts to print the list element by element\n",
    "# while deleting each element after it is printed \n",
    "\n",
    "greetings = ['hello', 'hi', 'salve', 'ciao', 'bonjour', 'hola', 'merhaba', 'hallo']\n",
    "\n",
    "for elem in greetings:                         \n",
    "    print(elem) \n",
    "    # Remove first element           \n",
    "    greetings.pop(0)\n",
    "    print(\"Current state of greetings: \" + str(greetings))\n",
    "  \n",
    "print(\"Final state of greetings: \" + str(greetings))"
   ]
  },
  {
   "cell_type": "markdown",
   "metadata": {
    "id": "13RHvEfe8X5D"
   },
   "source": [
    "__What went wrong?__ It is never a good idea to modify a list as you are\n",
    "looping through it!"
   ]
  },
  {
   "cell_type": "markdown",
   "metadata": {
    "id": "874B4FUW8aBz"
   },
   "source": [
    "### Exercise 3: Using Reserved Keywords\n",
    "\n",
    "In this exercise we will explore what happens when we __overwrite__ reserved keywords in `Python`."
   ]
  },
  {
   "cell_type": "code",
   "execution_count": 89,
   "metadata": {
    "colab": {
     "base_uri": "https://localhost:8080/",
     "height": 35
    },
    "executionInfo": {
     "elapsed": 1015,
     "status": "ok",
     "timestamp": 1579050678897,
     "user": {
      "displayName": "Krishna Kartik Patel",
      "photoUrl": "",
      "userId": "00785950259150756327"
     },
     "user_tz": 480
    },
    "id": "EEHrEnCB7Uj1",
    "outputId": "53510bff-9a14-4490-f7da-472af6ceda23"
   },
   "outputs": [
    {
     "ename": "TypeError",
     "evalue": "'list' object is not callable",
     "output_type": "error",
     "traceback": [
      "\u001b[0;31m---------------------------------------------------------------------------\u001b[0m",
      "\u001b[0;31mTypeError\u001b[0m                                 Traceback (most recent call last)",
      "\u001b[0;32m/var/folders/yb/s4jh_4293jq6f8qwxfftjwb40000gn/T/ipykernel_13354/652353701.py\u001b[0m in \u001b[0;36m<module>\u001b[0;34m\u001b[0m\n\u001b[1;32m      1\u001b[0m \u001b[0;31m# list function usually creates a list\u001b[0m\u001b[0;34m\u001b[0m\u001b[0;34m\u001b[0m\u001b[0;34m\u001b[0m\u001b[0m\n\u001b[0;32m----> 2\u001b[0;31m \u001b[0mlist\u001b[0m\u001b[0;34m(\u001b[0m\u001b[0;34m)\u001b[0m\u001b[0;34m\u001b[0m\u001b[0;34m\u001b[0m\u001b[0m\n\u001b[0m",
      "\u001b[0;31mTypeError\u001b[0m: 'list' object is not callable"
     ]
    }
   ],
   "source": [
    "# list function usually creates a list\n",
    "list()"
   ]
  },
  {
   "cell_type": "markdown",
   "metadata": {},
   "source": [
    "What would happen if we created a variable named `list`? A `TypeError`!"
   ]
  },
  {
   "cell_type": "code",
   "execution_count": 90,
   "metadata": {
    "colab": {
     "base_uri": "https://localhost:8080/",
     "height": 239
    },
    "executionInfo": {
     "elapsed": 1036,
     "status": "error",
     "timestamp": 1579050683613,
     "user": {
      "displayName": "Krishna Kartik Patel",
      "photoUrl": "",
      "userId": "00785950259150756327"
     },
     "user_tz": 480
    },
    "id": "0VScEYxd8vvl",
    "outputId": "4cfb3670-cd47-4dea-d6a6-8d585084bc0a"
   },
   "outputs": [
    {
     "name": "stdout",
     "output_type": "stream",
     "text": [
      "[1, 2, 3]\n",
      "Attempting to make a new list ...\n"
     ]
    },
    {
     "ename": "TypeError",
     "evalue": "'list' object is not callable",
     "output_type": "error",
     "traceback": [
      "\u001b[0;31m---------------------------------------------------------------------------\u001b[0m",
      "\u001b[0;31mTypeError\u001b[0m                                 Traceback (most recent call last)",
      "\u001b[0;32m/var/folders/yb/s4jh_4293jq6f8qwxfftjwb40000gn/T/ipykernel_13354/3596137556.py\u001b[0m in \u001b[0;36m<module>\u001b[0;34m\u001b[0m\n\u001b[1;32m      5\u001b[0m \u001b[0;31m# Let's make a new list\u001b[0m\u001b[0;34m\u001b[0m\u001b[0;34m\u001b[0m\u001b[0;34m\u001b[0m\u001b[0m\n\u001b[1;32m      6\u001b[0m \u001b[0mprint\u001b[0m\u001b[0;34m(\u001b[0m\u001b[0;34m\"Attempting to make a new list ...\"\u001b[0m\u001b[0;34m)\u001b[0m\u001b[0;34m\u001b[0m\u001b[0;34m\u001b[0m\u001b[0m\n\u001b[0;32m----> 7\u001b[0;31m \u001b[0mnew_list\u001b[0m \u001b[0;34m=\u001b[0m \u001b[0mlist\u001b[0m\u001b[0;34m(\u001b[0m\u001b[0;34m)\u001b[0m\u001b[0;34m\u001b[0m\u001b[0;34m\u001b[0m\u001b[0m\n\u001b[0m",
      "\u001b[0;31mTypeError\u001b[0m: 'list' object is not callable"
     ]
    }
   ],
   "source": [
    "# We name our list as list\n",
    "list = [1, 2, 3]\n",
    "print(list)\n",
    "\n",
    "# Let's make a new list\n",
    "print(\"Attempting to make a new list ...\")\n",
    "new_list = list()"
   ]
  },
  {
   "cell_type": "markdown",
   "metadata": {
    "id": "ryLdWD3r9G5V"
   },
   "source": [
    "__Don't Use Python Keywords as Variable Names__ To revert the above issue, we can delete the poorly named `list`. \n",
    "\n",
    "__Note:__ Running the below cell multiple times will raise an error because we can only delete `list` once."
   ]
  },
  {
   "cell_type": "code",
   "execution_count": 91,
   "metadata": {},
   "outputs": [
    {
     "name": "stdout",
     "output_type": "stream",
     "text": [
      "[]\n"
     ]
    }
   ],
   "source": [
    "del list\n",
    "new_list = list()\n",
    "print(new_list)"
   ]
  },
  {
   "cell_type": "markdown",
   "metadata": {
    "id": "MuUQqcsB9SkK"
   },
   "source": [
    "### Exercise 4: Slicing `Python` Lists\n",
    "\n",
    "In this exercise, we will practice slicing lists in `Python`."
   ]
  },
  {
   "cell_type": "code",
   "execution_count": 52,
   "metadata": {
    "id": "cKqUtXjn83kJ"
   },
   "outputs": [],
   "source": [
    "nums = [0, 1, 2, 3, 4, 5]"
   ]
  },
  {
   "cell_type": "code",
   "execution_count": 53,
   "metadata": {
    "id": "TRgkebu3-voY"
   },
   "outputs": [
    {
     "data": {
      "text/plain": [
       "[2, 3, 4]"
      ]
     },
     "execution_count": 53,
     "metadata": {},
     "output_type": "execute_result"
    }
   ],
   "source": [
    "# Slice from index 2 inclusive to 5 exclusive\n",
    "nums[2:5]"
   ]
  },
  {
   "cell_type": "code",
   "execution_count": 54,
   "metadata": {
    "id": "2qU6m63s-5dl"
   },
   "outputs": [
    {
     "data": {
      "text/plain": [
       "[0, 1, 2]"
      ]
     },
     "execution_count": 54,
     "metadata": {},
     "output_type": "execute_result"
    }
   ],
   "source": [
    "# Slice from the beginning to index 3 exclusive\n",
    "nums[:3]"
   ]
  },
  {
   "cell_type": "code",
   "execution_count": 55,
   "metadata": {
    "id": "jVtXHmsp_Av9"
   },
   "outputs": [
    {
     "data": {
      "text/plain": [
       "[3, 4, 5]"
      ]
     },
     "execution_count": 55,
     "metadata": {},
     "output_type": "execute_result"
    }
   ],
   "source": [
    "# Slice from index 3 inclusive to the end\n",
    "nums[3:]"
   ]
  },
  {
   "cell_type": "code",
   "execution_count": 57,
   "metadata": {
    "id": "v357rm2B_GBc"
   },
   "outputs": [
    {
     "data": {
      "text/plain": [
       "[0, 1, 2, 3, 4, 5]"
      ]
     },
     "execution_count": 57,
     "metadata": {},
     "output_type": "execute_result"
    }
   ],
   "source": [
    "# \"Slice\" the entire list\n",
    "nums[:]"
   ]
  },
  {
   "cell_type": "markdown",
   "metadata": {
    "id": "Pu4hUIfr_RFg"
   },
   "source": [
    "### Exercise 5: Copying Data Structures\n",
    "\n",
    "Run the following code to determine how data structures are copied in `Python`."
   ]
  },
  {
   "cell_type": "code",
   "execution_count": 58,
   "metadata": {
    "colab": {
     "base_uri": "https://localhost:8080/",
     "height": 55
    },
    "executionInfo": {
     "elapsed": 861,
     "status": "ok",
     "timestamp": 1579044847184,
     "user": {
      "displayName": "Krishna Kartik Patel",
      "photoUrl": "",
      "userId": "00785950259150756327"
     },
     "user_tz": 480
    },
    "id": "3Jx9hsn1_J5v",
    "outputId": "676ed5d3-325f-46b8-e272-6e850d01d2a7"
   },
   "outputs": [
    {
     "data": {
      "text/plain": [
       "{'one': 1, 'two': 2}"
      ]
     },
     "execution_count": 58,
     "metadata": {},
     "output_type": "execute_result"
    }
   ],
   "source": [
    "# Create a dictionary\n",
    "d = {'one': 1, 'two': 2}\n",
    "\n",
    "d"
   ]
  },
  {
   "cell_type": "code",
   "execution_count": 59,
   "metadata": {
    "colab": {
     "base_uri": "https://localhost:8080/",
     "height": 55
    },
    "executionInfo": {
     "elapsed": 874,
     "status": "ok",
     "timestamp": 1579044860251,
     "user": {
      "displayName": "Krishna Kartik Patel",
      "photoUrl": "",
      "userId": "00785950259150756327"
     },
     "user_tz": 480
    },
    "id": "3gLEbjtt_pBv",
    "outputId": "c1d6660c-742f-4235-e2c4-ead81cb892fc"
   },
   "outputs": [
    {
     "data": {
      "text/plain": [
       "{'one': 1, 'two': 2}"
      ]
     },
     "execution_count": 59,
     "metadata": {},
     "output_type": "execute_result"
    }
   ],
   "source": [
    "# Try to copy d\n",
    "copy = d\n",
    "\n",
    "copy"
   ]
  },
  {
   "cell_type": "code",
   "execution_count": 60,
   "metadata": {
    "colab": {
     "base_uri": "https://localhost:8080/",
     "height": 55
    },
    "executionInfo": {
     "elapsed": 489,
     "status": "ok",
     "timestamp": 1579044867133,
     "user": {
      "displayName": "Krishna Kartik Patel",
      "photoUrl": "",
      "userId": "00785950259150756327"
     },
     "user_tz": 480
    },
    "id": "WHdpYiDW_znG",
    "outputId": "f2641412-346a-4206-8fe7-c6efc80c74bd"
   },
   "outputs": [
    {
     "data": {
      "text/plain": [
       "{'one': 1, 'two': 2, 'three': 3}"
      ]
     },
     "execution_count": 60,
     "metadata": {},
     "output_type": "execute_result"
    }
   ],
   "source": [
    "# Modify the copy\n",
    "copy['three'] = 3\n",
    "\n",
    "copy"
   ]
  },
  {
   "cell_type": "code",
   "execution_count": 61,
   "metadata": {
    "colab": {
     "base_uri": "https://localhost:8080/",
     "height": 55
    },
    "executionInfo": {
     "elapsed": 950,
     "status": "ok",
     "timestamp": 1579044874969,
     "user": {
      "displayName": "Krishna Kartik Patel",
      "photoUrl": "",
      "userId": "00785950259150756327"
     },
     "user_tz": 480
    },
    "id": "NxgcJWTw_6mw",
    "outputId": "72347f96-d625-4f78-e6d2-34668a2672a5"
   },
   "outputs": [
    {
     "data": {
      "text/plain": [
       "{'one': 1, 'two': 2, 'three': 3}"
      ]
     },
     "execution_count": 61,
     "metadata": {},
     "output_type": "execute_result"
    }
   ],
   "source": [
    "# See if d remains unchanged\n",
    "d"
   ]
  },
  {
   "cell_type": "markdown",
   "metadata": {
    "id": "U_hAENwa_9qe"
   },
   "source": [
    "__Copying vs. Aliasing__ When we assign a variable containing a data structure (`d`) to a new variable (`copy`), `Python` simply makes the latter an alias of the former. Therefore, changing the copy changes the original data structure. Below is an example avoiding this problem."
   ]
  },
  {
   "cell_type": "code",
   "execution_count": 62,
   "metadata": {},
   "outputs": [
    {
     "data": {
      "text/plain": [
       "{'one': 1, 'two': 2, 'three': 3}"
      ]
     },
     "execution_count": 62,
     "metadata": {},
     "output_type": "execute_result"
    }
   ],
   "source": [
    "# Proper copy\n",
    "copy = {k:v for k, v in d.items()}\n",
    "\n",
    "copy"
   ]
  },
  {
   "cell_type": "code",
   "execution_count": 65,
   "metadata": {
    "scrolled": true
   },
   "outputs": [
    {
     "data": {
      "text/plain": [
       "{'one': 1, 'two': 2, 'three': 3, 'four': 3}"
      ]
     },
     "execution_count": 65,
     "metadata": {},
     "output_type": "execute_result"
    }
   ],
   "source": [
    "# Modify the copy\n",
    "copy['four'] = 3\n",
    "\n",
    "copy"
   ]
  },
  {
   "cell_type": "code",
   "execution_count": 66,
   "metadata": {
    "scrolled": true
   },
   "outputs": [
    {
     "data": {
      "text/plain": [
       "{'one': 1, 'two': 2, 'three': 3}"
      ]
     },
     "execution_count": 66,
     "metadata": {},
     "output_type": "execute_result"
    }
   ],
   "source": [
    "# d remains unchanged\n",
    "d"
   ]
  },
  {
   "cell_type": "markdown",
   "metadata": {},
   "source": [
    "__Copying through Slicing__ We have seen a method to copy a `list` in the previous exercise!"
   ]
  },
  {
   "cell_type": "code",
   "execution_count": 75,
   "metadata": {},
   "outputs": [
    {
     "name": "stdout",
     "output_type": "stream",
     "text": [
      "copy is [0, 1, 2, 3, 4, 10]\n",
      "nums is [0, 1, 2, 3, 4, 5]\n"
     ]
    }
   ],
   "source": [
    "# One way to properly copy list is through slicing\n",
    "copy = nums[:] \n",
    "\n",
    "# Another alternative, similar to the dictionary example from before\n",
    "copy = [i for i in nums]\n",
    "\n",
    "# Modify the copy\n",
    "copy[5] = 10\n",
    "\n",
    "# Observe that nums didn't change\n",
    "print(f\"copy is {copy}\")\n",
    "print(f\"nums is {nums}\")"
   ]
  },
  {
   "cell_type": "markdown",
   "metadata": {
    "id": "30GSRCf0CnIB"
   },
   "source": [
    "## Part 3. `Regular Expression` Exercises\n",
    "\n",
    "`Regular Expressions` (`RegEx`) are usually used to search for patterns in strings, or check if a string matches a pattern. `Python` has a regular expression module that helps us execute regular expressions on bodies of text. "
   ]
  },
  {
   "cell_type": "code",
   "execution_count": 93,
   "metadata": {
    "id": "b_nGqyQjC_dH"
   },
   "outputs": [],
   "source": [
    "# Import the standard Python standard RegEx library\n",
    "import re"
   ]
  },
  {
   "cell_type": "code",
   "execution_count": 95,
   "metadata": {
    "pycharm": {
     "name": "#%%\n"
    },
    "scrolled": true
   },
   "outputs": [
    {
     "data": {
      "text/plain": [
       "['a::b', 'c.d', 'e;:f', 'g']"
      ]
     },
     "execution_count": 95,
     "metadata": {},
     "output_type": "execute_result"
    }
   ],
   "source": [
    "# As an example, we can use a comma as our RegEx pattern and use this pattern\n",
    "# to split a string\n",
    "\n",
    "input_str = \"a::b,c.d,e;:f,g\"\n",
    "\n",
    "# It is a good habit to mark RegEx patterns with the \"r\" prefix. In this\n",
    "# case it doesn't matter, but \"r\" is needed for the RegEx to be read\n",
    "# correctly when using special RegEx characters like \\b, \\w, etc. \n",
    "\n",
    "# This pattern matches a single comma\n",
    "pattern = r\",\"\n",
    "\n",
    "# re.split splits the input string at the matching patterns\n",
    "tokens = re.split(pattern, input_str)\n",
    "\n",
    "tokens"
   ]
  },
  {
   "cell_type": "code",
   "execution_count": 97,
   "metadata": {
    "pycharm": {
     "name": "#%%\n"
    }
   },
   "outputs": [
    {
     "data": {
      "text/plain": [
       "['a', '', 'b', 'c', 'd', 'e', '', 'f', 'g']"
      ]
     },
     "execution_count": 97,
     "metadata": {},
     "output_type": "execute_result"
    }
   ],
   "source": [
    "# We could be a bit fancier, and allow our pattern to be any character in\n",
    "# a set. Bracket notation [] indicates that we can match any of the characters\n",
    "# in the brackets.\n",
    "\n",
    "# This matches any ONE character in the set(a period, comma, semicolon, or\n",
    "# colon). Note that because period (\".\") is a special character in RegExes, we\n",
    "# need to indicate that we mean a normal period, not the special character.\n",
    "# To do this, we \"escape\" the period character by putting a backslash \"\\\"\n",
    "# before it.\n",
    "pattern = r\"[\\.,;:]\"\n",
    "\n",
    "tokens = re.split(pattern, input_str)\n",
    "\n",
    "tokens"
   ]
  },
  {
   "cell_type": "code",
   "execution_count": 98,
   "metadata": {
    "pycharm": {
     "name": "#%%\n"
    }
   },
   "outputs": [
    {
     "data": {
      "text/plain": [
       "['a', 'b', 'c', 'd', 'e', 'f', 'g']"
      ]
     },
     "execution_count": 98,
     "metadata": {},
     "output_type": "execute_result"
    }
   ],
   "source": [
    "# We could even use special operators to describe more specific patterns.\n",
    "# For example, the \"+\" operator means that it will match the object to its left\n",
    "# at least once, but possibly multiple times. Note that if the object to the left\n",
    "# is a set, it could be a different character from that set each time.\n",
    "\n",
    "# This matches any sequence of one or more characters from the set\n",
    "# [.,;:].\n",
    "pattern = r\"[\\.,;:]+\"\n",
    "\n",
    "tokens = re.split(pattern, input_str)\n",
    "\n",
    "tokens"
   ]
  },
  {
   "cell_type": "code",
   "execution_count": 99,
   "metadata": {
    "pycharm": {
     "name": "#%%\n"
    }
   },
   "outputs": [
    {
     "data": {
      "text/plain": [
       "['dog', 'dog', 'dog', 'dog']"
      ]
     },
     "execution_count": 99,
     "metadata": {},
     "output_type": "execute_result"
    }
   ],
   "source": [
    "# We can also use RegExes to find all the times a specific pattern appears\n",
    "# in a string. For example, what if we wanted to find all the instances of\n",
    "# the word \"dog\" in a text.\n",
    "\n",
    "text = \"\"\"F\n",
    "I love my dog Spot! Spot is the best dog in the world. He likes playing\n",
    "with other dogs at the park. But he doesn't like cats, he is scared of them.\n",
    "Today I will take him to the dog park. One time he saw a cat there and got so\n",
    "scared he wanted to go home.\n",
    "\"\"\"\n",
    "\n",
    "# This matches just the 3-character sequence \"dog\"\n",
    "pattern = r\"dog\"\n",
    "\n",
    "tokens = re.findall(pattern, text)\n",
    "\n",
    "tokens"
   ]
  },
  {
   "cell_type": "code",
   "execution_count": 100,
   "metadata": {
    "pycharm": {
     "name": "#%%\n"
    }
   },
   "outputs": [
    {
     "data": {
      "text/plain": [
       "['dog', 'dog', 'dogs', 'dog']"
      ]
     },
     "execution_count": 100,
     "metadata": {},
     "output_type": "execute_result"
    }
   ],
   "source": [
    "# There are also other operators we can use, like ? to match the object to its\n",
    "# left 0 or 1 times (in other words, it is optional).\n",
    "\n",
    "# This matches \"dog\" followed by an optional s.\n",
    "pattern = r\"dog[s]?\"\n",
    "\n",
    "tokens = re.findall(pattern, text)\n",
    "\n",
    "tokens"
   ]
  },
  {
   "cell_type": "code",
   "execution_count": 103,
   "metadata": {
    "pycharm": {
     "name": "#%%\n"
    }
   },
   "outputs": [
    {
     "data": {
      "text/plain": [
       "['dog', 'dog', 'dog', 'cat', 'dog', 'cat']"
      ]
     },
     "execution_count": 103,
     "metadata": {},
     "output_type": "execute_result"
    }
   ],
   "source": [
    "# Or we can match multiple possibilities (i.e. A or B)\n",
    "\n",
    "# This matches \"dog\" or \"cat\".\n",
    "pattern = r\"(dog|cat)\"\n",
    "\n",
    "tokens = re.findall(pattern, text)\n",
    "\n",
    "tokens"
   ]
  },
  {
   "cell_type": "code",
   "execution_count": 104,
   "metadata": {
    "pycharm": {
     "name": "#%%\n"
    }
   },
   "outputs": [
    {
     "data": {
      "text/plain": [
       "['at', 'a', 'and']"
      ]
     },
     "execution_count": 104,
     "metadata": {},
     "output_type": "execute_result"
    }
   ],
   "source": [
    "# A particularly common operator is the star \"*\" operator. It matches 0 or more\n",
    "# of the object to its left. For example, we can use it to match any word that\n",
    "# starts with an a (an a or A at the start of a word, followed by 0 or more of\n",
    "# any letter).\n",
    "\n",
    "# We can use the \\b symbol to match the start of a word.\n",
    "# and the \\w symbol to match a letter.\n",
    "# See https://docs.python.org/3/library/re.html for details and other\n",
    "# special symbols.\n",
    "\n",
    "# This matches any word starting with an a or A\n",
    "pattern = r\"\\b[aA]\\w*\"\n",
    "\n",
    "tokens = re.findall(pattern, text)\n",
    "\n",
    "tokens"
   ]
  },
  {
   "cell_type": "code",
   "execution_count": 105,
   "metadata": {
    "id": "fUjm3sZECarI"
   },
   "outputs": [
    {
     "name": "stdout",
     "output_type": "stream",
     "text": [
      "<re.Match object; span=(0, 17), match='The rain in Spain'>\n",
      "The rain in Spain\n",
      "The rain in Spain\n",
      "The rain in Spain\n",
      "span: (0, 17)\n"
     ]
    }
   ],
   "source": [
    "# Beyond the re.findall() function, we also often use re.search() if we want\n",
    "# more flexible control over how we match/search\n",
    "# (example from https://www.w3schools.com/python/python_regex.asp)\n",
    "\n",
    "# re.search() is slightly more complicated than re.findall(), because it\n",
    "# doesn't just return a list of matches as strings. It instead returns a Python\n",
    "# match object that contains more detailed information about the match.\n",
    "\n",
    "# NOTE: period (\".\") is a special character indicating any character (except\n",
    "# a newline). \"^\" matches the start of a string and \"$\" matches the end of a\n",
    "# string.\n",
    "\n",
    "text = r\"The rain in Spain\"\n",
    "match = re.search(r\"^The.*Spain$\", text)\n",
    "\n",
    "# Print the match object\n",
    "print(match)\n",
    "\n",
    "# Find the first (and only) match\n",
    "print(match[0])\n",
    "\n",
    "# Get the original string back\n",
    "print(match.string)\n",
    "\n",
    "# Get the group (the entire part of the string where the match happened)\n",
    "print(match.group())\n",
    "\n",
    "# Find the span, the tuple (start_index, end_index).\n",
    "# In other words the positions (from the start of the string, counting from\n",
    "# 0), where the match starts and ends.\n",
    "print(\"span: \" + str(match.span()))"
   ]
  },
  {
   "cell_type": "code",
   "execution_count": 106,
   "metadata": {
    "id": "-Jjf6PbpC9lA"
   },
   "outputs": [],
   "source": [
    "# We can also use capture groups (in parentheses) to indicate\n",
    "# parts of the match that we want to save so that we can use them separately\n",
    "\n",
    "# Using your knowledge of RegExes from the previous examples, what does this\n",
    "# pattern mean? What do you expect it to do/match from text? What parts of text\n",
    "# will fall in each of the 3 capture groups?\n",
    "ai_match = re.search(r\"(.*?)ai(.*?)ai(.*)\", text)"
   ]
  },
  {
   "cell_type": "code",
   "execution_count": 107,
   "metadata": {
    "id": "fXvBtEdVDhf1"
   },
   "outputs": [
    {
     "data": {
      "text/plain": [
       "'The rain in Spain'"
      ]
     },
     "execution_count": 107,
     "metadata": {},
     "output_type": "execute_result"
    }
   ],
   "source": [
    "# Let's check if your guesses were correct:\n",
    "\n",
    "# Entire match\n",
    "ai_match.group(0)"
   ]
  },
  {
   "cell_type": "code",
   "execution_count": 108,
   "metadata": {
    "id": "B65YzEsFEVTP"
   },
   "outputs": [
    {
     "data": {
      "text/plain": [
       "'The r'"
      ]
     },
     "execution_count": 108,
     "metadata": {},
     "output_type": "execute_result"
    }
   ],
   "source": [
    "# First capturing group \n",
    "ai_match.group(1)"
   ]
  },
  {
   "cell_type": "code",
   "execution_count": 109,
   "metadata": {
    "id": "B7dRS1RSEurW"
   },
   "outputs": [
    {
     "data": {
      "text/plain": [
       "'n in Sp'"
      ]
     },
     "execution_count": 109,
     "metadata": {},
     "output_type": "execute_result"
    }
   ],
   "source": [
    "# Second capturing group\n",
    "ai_match.group(2)"
   ]
  },
  {
   "cell_type": "code",
   "execution_count": 110,
   "metadata": {
    "id": "rDqEUeNhE2sT"
   },
   "outputs": [
    {
     "data": {
      "text/plain": [
       "'n'"
      ]
     },
     "execution_count": 110,
     "metadata": {},
     "output_type": "execute_result"
    }
   ],
   "source": [
    "# Third capturing group\n",
    "ai_match.group(3)"
   ]
  },
  {
   "cell_type": "markdown",
   "metadata": {
    "id": "DC7jMTXdJwuQ"
   },
   "source": [
    "Let's try a more difficult example: \n",
    "\n",
    "Try to extract the inside of an HTML Tag that follows the following rules:\n",
    "\n",
    "*   Start tags start with \"<,\" have at least 1 alpha numeric character\n",
    "and then end with \">\"\n",
    "*   End tags start with \"</\", have at least 1 alpha numeric characters\n",
    "and then end with \">\"\n",
    "*   There can be any character between the two tags\n",
    "\n",
    "Here are some examples example of the text:\n",
    "\n",
    "`<html>`this is what we want to extract`</html>`\n",
    "\n",
    "don't want`<h1>`what we want `</h1>` don't want\n",
    "\n",
    "---\n",
    "\n",
    "If you want to make it harder make sure you pass this test case, since\n",
    "technically HTML tags must match (the contents of the start tag must match\n",
    "the contents of the end tag):\n",
    "\n",
    "`<html>`this is what we want to extract `</h1>` `</html>` \n",
    "\n",
    "You should extract: this is what we want to extract `</h1>`"
   ]
  },
  {
   "cell_type": "code",
   "execution_count": 111,
   "metadata": {
    "id": "tejzB5MRLNDS"
   },
   "outputs": [],
   "source": [
    "# Try to solve this here\n",
    "\n",
    "test_str1 = \"<html>this is what we want to extract</html>\"\n",
    "test_str2 = \"don't want<h1>what we want </h1> don't want\"\n",
    "\n",
    "hard_case = \"<html>this is what we want to extract </h1> </html>\""
   ]
  },
  {
   "cell_type": "markdown",
   "metadata": {
    "id": "sNynBmNuLaP6"
   },
   "source": [
    "Solved it? You can find the answer [here](https://colab.research.google.com/drive/1IQ8LqxGY8B0A0ecqgHQrSfb34pCMUQFE) "
   ]
  },
  {
   "cell_type": "markdown",
   "metadata": {
    "id": "UydjsI7wIHRG"
   },
   "source": [
    "Let's try a longer example: \n",
    "\n",
    "Try to match a URL that follows the following rules:\n",
    "\n",
    "* the URL must start with http or https followed by ://\n",
    "* the domain name can only be alphanumeric or contain \".\" or \"-\"\n",
    "* can contain a port specification (http://abc.com:80) (you can assume ports\n",
    "go from 0 to 99)\n",
    "* after the port, the URL can contain any number of  alphanumeric digits,\n",
    "dots and hyphens"
   ]
  },
  {
   "cell_type": "code",
   "execution_count": 112,
   "metadata": {
    "id": "8m69MJFNeF57"
   },
   "outputs": [],
   "source": [
    "# Try to solve this here\n",
    "\n",
    "test_str1 = \"http://www.google.com\"\n",
    "test_str2 = \"https://www.gmail.com:88/hello-hi\"\n",
    "test_str3 = \"http://abd-fh.8rhgyt.org:90/h-\"\n"
   ]
  },
  {
   "cell_type": "markdown",
   "metadata": {
    "id": "kTA6xxBvefBv"
   },
   "source": [
    "Done? You can find the answer [here](https://colab.research.google.com/drive/1BrNRHLnpu_1W9bsKZzS1Vk9P6xuE7f_i)!"
   ]
  },
  {
   "cell_type": "markdown",
   "metadata": {
    "pycharm": {
     "name": "#%% md\n"
    }
   },
   "source": [
    "## Note on Jupyter Runtime\n",
    "\n",
    "Before we wrap up with the `Python` review, there is one more thing we would like to\n",
    "show you. This will be pretty important for your future homework assignments,\n",
    "so we encourage you to read untill the end and not skip this part!\n",
    "\n",
    "If you've gotten this far, that means you have figured out the basics of how to\n",
    "walk through a `Jupyter Notebook`. As we are sure you've noticed, `Jupyter Notebooks`\n",
    "are a bit different from the sort of `Python` scripting you may be familiar\n",
    "with.\n",
    "\n",
    "As a result, there are a few things that can cause confusion or trip students\n",
    "up and are worth keeping in mind:"
   ]
  },
  {
   "cell_type": "markdown",
   "metadata": {
    "pycharm": {
     "name": "#%% md\n"
    }
   },
   "source": [
    "The most important thing to remember about `Jupyter Notebooks` is that\n",
    "every time you run a cell, you are changing the global state of the notebook.\n",
    "In other words, every time a cell is run, it\n",
    "\n",
    "For example, try running this cell:"
   ]
  },
  {
   "cell_type": "code",
   "execution_count": null,
   "metadata": {
    "pycharm": {
     "name": "#%%\n"
    }
   },
   "outputs": [],
   "source": [
    "print(this_variable_has_not_been_defined_yet)"
   ]
  },
  {
   "cell_type": "markdown",
   "metadata": {
    "pycharm": {
     "name": "#%% md\n"
    }
   },
   "source": [
    "The cell should give an error, complaining that\n",
    "\n",
    "```\n",
    "NameError: name 'this_variable_has_not_been_defined_yet' is not defined\n",
    "```\n",
    "\n",
    "Now try running this cell:"
   ]
  },
  {
   "cell_type": "code",
   "execution_count": null,
   "metadata": {
    "pycharm": {
     "name": "#%%\n"
    }
   },
   "outputs": [],
   "source": [
    "this_variable_has_not_been_defined_yet = \"until right now!\""
   ]
  },
  {
   "cell_type": "markdown",
   "metadata": {
    "pycharm": {
     "name": "#%% md\n"
    }
   },
   "source": [
    "And now go back and run the previous cell. It worked now!\n",
    "What gives?\n",
    "\n",
    "The reason it worked this time is that when you ran the previous cell, it\n",
    "changed the state of the notebook, creating the new variable. This new variable\n",
    "now exists and is accessible from __ALL__ cells\n",
    "in the notebook that you run from now on! This applies to any future cell\n",
    "you run anywhere in the notebook, whether it be \"above\" or \"below\" the\n",
    "current cell.\n",
    "\n",
    "It doesn't matter what order the cells appear in the notebook; the only\n",
    "thing that matters is the order that the cells were run in! This is something\n",
    "important to keep in mind as your notebooks become longer and more complex,\n",
    "with lots of cells. If you run into weird or unexpected behavior in your\n",
    "notebook, it probably has something to do with the order in which you\n",
    "executed your cells!"
   ]
  },
  {
   "cell_type": "markdown",
   "metadata": {
    "pycharm": {
     "name": "#%% md\n"
    }
   },
   "source": [
    "Another corollary of the above fact is that you should be mindful of the side\n",
    "effects of your cells! We'll show you what we mean with an example.\n",
    "\n",
    "Let's create a variable:"
   ]
  },
  {
   "cell_type": "code",
   "execution_count": null,
   "metadata": {
    "pycharm": {
     "name": "#%%\n"
    }
   },
   "outputs": [],
   "source": [
    "counter = 0"
   ]
  },
  {
   "cell_type": "markdown",
   "metadata": {
    "pycharm": {
     "name": "#%% md\n"
    }
   },
   "source": [
    "And now we'll try incrementing it once and printing it. Simple, right? What\n",
    "result would you expect if you ran the cell below (yes, it's obvious. please\n",
    "just humor us for now)?"
   ]
  },
  {
   "cell_type": "code",
   "execution_count": null,
   "metadata": {
    "pycharm": {
     "name": "#%%\n"
    }
   },
   "outputs": [],
   "source": [
    "counter += 1\n",
    "print(counter)"
   ]
  },
  {
   "cell_type": "markdown",
   "metadata": {
    "pycharm": {
     "name": "#%% md\n"
    }
   },
   "source": [
    "As you no doubt expected, it printed a 1! Now try running the same cell again a\n",
    "few more times.\n",
    "What do you expect the result to be? What actually happened?"
   ]
  },
  {
   "cell_type": "markdown",
   "metadata": {
    "pycharm": {
     "name": "#%% md\n"
    }
   },
   "source": [
    "You should find that it prints 2, 3, 4, ... and so on!\n",
    "\n",
    "This may or may not surprise you. Often students who haven't worked with\n",
    "Jupyter notebooks before can find this counter-intuitive, as it seems\n",
    "natural to expect that the same part of your code should produce the same\n",
    "output every time.\n",
    "\n",
    "The reason why that isn't true here is because of the global\n",
    "state issue that we showed above. Every time you run a cell, it's not\n",
    "just redoing the same calculation from the same starting point. It's also\n",
    "updating the global state of the notebook! Any changes you make to variables\n",
    "persist, and will affect every future cell that you run.\n",
    "\n",
    "In this particular case, it's not too confusing, and it's pretty easy to\n",
    "grasp what's going on. But in a huge notebook with many cells, each containing\n",
    "possibly complex logic with complicated or subtle side effects, this behavior\n",
    "can often cause problems!"
   ]
  },
  {
   "cell_type": "markdown",
   "metadata": {
    "pycharm": {
     "name": "#%% md\n"
    }
   },
   "source": [
    "As a result, a good tip when working with `Jupyter Notebooks` is to try to avoid\n",
    "making the side effects of your cells too complicated. Or at least try to keep\n",
    "clear in your head which cells have side effects (and so can't be run many times\n",
    "reproducibly) and which don't.\n",
    "\n",
    "Obviously it's impossible to totally avoid cross-cell side effects, because if\n",
    "you did it would defeat the purpose of using a Jupyter notebook at all!\n",
    "You'd have to have one giant cell with all of your code, or have each cell only\n",
    "do self-contained work, which wouldn't be very interesting or useful! The global\n",
    "state maintained by notebooks is what makes them useful and powerful, but\n",
    "it can also be a major point of pain and confusion if you're not careful.\n",
    "\n",
    "__TLDR:__ If you run into weird behavior or notebook issues, try thinking\n",
    "carefully about how things are affecting the global state of your\n",
    "notebook.\n",
    "\n",
    "\n",
    "Best of luck with your future `Jupyter` adventures! `Jupyter\n",
    "Notebooks` are awesome tools for visualization, working with data,\n",
    "and doing quick prototyping. We hope they can become a useful tool in your\n",
    "toolbox if they aren't already!"
   ]
  },
  {
   "cell_type": "markdown",
   "metadata": {
    "pycharm": {
     "name": "#%% md\n"
    }
   },
   "source": [
    "If you're interested in learning a little more Jupyter-foo, check out some of\n",
    "these links. Even if you're relatively experienced with Jupyter,\n",
    "it's likely that many of the tips below will be new to you!\n",
    "\n",
    "* https://www.dataquest.io/blog/jupyter-notebook-tips-tricks-shortcuts/\n",
    "* https://towardsdatascience.com/optimizing-jupyter-notebook-tips-tricks-and-nbextensions-26d75d502663\n",
    "* https://towardsdatascience.com/15-tips-and-tricks-to-use-jupyter-notebook-more-efficiently-ef05ede4e4b9\n"
   ]
  },
  {
   "cell_type": "markdown",
   "metadata": {
    "id": "rtq-S9arHkLQ"
   },
   "source": [
    "## Bonus"
   ]
  },
  {
   "cell_type": "markdown",
   "metadata": {
    "pycharm": {
     "name": "#%% md\n"
    }
   },
   "source": [
    "Want more practice with regular expressions? Try [this question](https://www.learnpython.org/en/Regular_Expressions) with your neighbor!"
   ]
  },
  {
   "cell_type": "markdown",
   "metadata": {
    "id": "cW-IVH-hHsdG"
   },
   "source": [
    "Done with that as well? Complete the python tutorial [here](https://www.learnpython.org/en/Welcome). We recommend looking at the following sections:\n",
    "\n",
    "* Variables and Types\n",
    "* Lists\n",
    "* Basic Operators\n",
    "* String Formatting\n",
    "* Basic String Operations\n",
    "* Conditions\n",
    "* Loops\n",
    "* Functions\n",
    "* Dictionaries\n",
    "* Classes\n",
    "* Modules and Packages\n",
    "* Numpy Arrays\n",
    "* Generators\n",
    "* List Comprehensions\n",
    "* Regular Expressions\n",
    "* Sets\n",
    "* Decorators"
   ]
  }
 ],
 "metadata": {
  "colab": {
   "collapsed_sections": [],
   "name": "CS124 Python Exercises.ipynb",
   "provenance": []
  },
  "kernelspec": {
   "display_name": "Python [conda env:cs124] *",
   "language": "python",
   "name": "conda-env-cs124-py"
  },
  "language_info": {
   "codemirror_mode": {
    "name": "ipython",
    "version": 3
   },
   "file_extension": ".py",
   "mimetype": "text/x-python",
   "name": "python",
   "nbconvert_exporter": "python",
   "pygments_lexer": "ipython3",
   "version": "3.8.5"
  }
 },
 "nbformat": 4,
 "nbformat_minor": 1
}
