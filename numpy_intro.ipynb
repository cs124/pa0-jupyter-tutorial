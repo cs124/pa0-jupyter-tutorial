{
 "cells": [
  {
   "cell_type": "markdown",
   "metadata": {},
   "source": [
    "# An Intro to NumPy\n",
    "---\n",
    "\n",
    "Created by Krishna Patel (kpatel7@stanford.edu)\n",
    "\n",
    "Updated by Bryan Kim (bskim96@stanford.edu)\n",
    "\n",
    "Some examples based on the NumPy tutorial by Justin Johnson for CS 231n."
   ]
  },
  {
   "cell_type": "markdown",
   "metadata": {},
   "source": [
    "## Why NumPy\n",
    "\n",
    "NumPy is a very popular Python library used for matrix operations and linear\n",
    "algebra. The purpose of this notebook is to give a basic introduction to\n",
    "NumPy for students who haven't used it before, and an easy review for those who\n",
    "have.\n",
    "\n",
    "Learning NumPy is well worth the effort, as you'll be using it constantly if\n",
    "you choose to take further ML/AI courses at Stanford.\n",
    "\n",
    "This notebook is optional and ungraded, so if you've worked with NumPy before\n",
    "and feel comfortable working with it, feel free to skim it or skip it.\n",
    "\n",
    "If NumPy is new to you, hopefully it helps get you started working with it."
   ]
  },
  {
   "cell_type": "markdown",
   "metadata": {},
   "source": [
    "### Environment Check\n",
    "\n",
    "Before proceeding, run the cell below to check that you're using the right\n",
    "conda environment (with NumPy installed)."
   ]
  },
  {
   "cell_type": "code",
   "execution_count": null,
   "metadata": {
    "pycharm": {
     "name": "#%%\n"
    }
   },
   "outputs": [],
   "source": [
    "import os\n",
    "assert os.environ['CONDA_DEFAULT_ENV'] == \"cs124\"\n",
    "\n",
    "import sys\n",
    "assert sys.version_info.major == 3 and sys.version_info.minor == 8"
   ]
  },
  {
   "cell_type": "markdown",
   "metadata": {},
   "source": [
    "If the above cell complains, it means that you're using the wrong environment\n",
    "or Python version!\n",
    "\n",
    "If so, please exit this notebook, kill the notebook server with CTRL-C, and\n",
    "try running\n",
    "\n",
    "$ conda activate cs124\n",
    "\n",
    "then restarting your notebook server with\n",
    "\n",
    "$ jupyter notebook"
   ]
  },
  {
   "cell_type": "markdown",
   "metadata": {},
   "source": [
    "## Exercises\n",
    "\n",
    "### Exercise 1 -- Basic NumPy"
   ]
  },
  {
   "cell_type": "code",
   "execution_count": 1,
   "metadata": {
    "pycharm": {
     "name": "#%%\n"
    }
   },
   "outputs": [],
   "source": [
    "# Let's import numpy (aliasing the import as np is traditional)\n",
    "import numpy as np"
   ]
  },
  {
   "cell_type": "markdown",
   "metadata": {
    "pycharm": {
     "name": "#%% md\n"
    }
   },
   "source": [
    "The basic building blocks of NumPy are arrays, which are represented with the\n",
    "`np.ndarray` type. Arrays represent multi-dimensional matrices (often also\n",
    "referred to as tensors).\n",
    "\n",
    "We can easily create a 1-D array (a vector) by calling `np.array()` and passing\n",
    "in a Python list with the data that should go into the array:"
   ]
  },
  {
   "cell_type": "code",
   "execution_count": 2,
   "metadata": {
    "pycharm": {
     "name": "#%%\n"
    }
   },
   "outputs": [
    {
     "name": "stdout",
     "output_type": "stream",
     "text": [
      "a is an: <class 'numpy.ndarray'>\n"
     ]
    },
    {
     "data": {
      "text/plain": [
       "array([1, 2, 3, 4, 5])"
      ]
     },
     "execution_count": 2,
     "metadata": {},
     "output_type": "execute_result"
    }
   ],
   "source": [
    "# This is an array (of type np.ndarray)\n",
    "a = np.array([1, 2, 3, 4, 5])\n",
    "\n",
    "print(\"a is an: {}\".format(type(a)))\n",
    "a"
   ]
  },
  {
   "cell_type": "markdown",
   "metadata": {
    "pycharm": {
     "name": "#%% md\n"
    }
   },
   "source": [
    "Arrays can have different numbers of dimensions, different shapes, and contain\n",
    "elements of different types. Very frequently you'll want to check these\n",
    "properties (especially shape), which you can do like this:"
   ]
  },
  {
   "cell_type": "code",
   "execution_count": 4,
   "metadata": {
    "pycharm": {
     "name": "#%%\n"
    }
   },
   "outputs": [
    {
     "name": "stdout",
     "output_type": "stream",
     "text": [
      "Data type of a: int64\n",
      "Shape of a: (5,)\n"
     ]
    }
   ],
   "source": [
    "# a is an array containing integers (in this case, 64-bit integers)\n",
    "print(\"Data type of a: {}\".format(a.dtype))\n",
    "\n",
    "# a is a 1-dimensional array of length 5\n",
    "print(\"Shape of a: {}\".format(a.shape))"
   ]
  },
  {
   "cell_type": "code",
   "execution_count": 6,
   "metadata": {
    "pycharm": {
     "name": "#%%\n"
    }
   },
   "outputs": [
    {
     "name": "stdout",
     "output_type": "stream",
     "text": [
      "Data type of b: float64\n",
      "Shape of b: (2,)\n"
     ]
    },
    {
     "data": {
      "text/plain": [
       "array([5., 1.])"
      ]
     },
     "execution_count": 6,
     "metadata": {},
     "output_type": "execute_result"
    }
   ],
   "source": [
    "# Note that b contains floating point numbers, not integers\n",
    "b = np.array([5.0, 1.0])\n",
    "\n",
    "print(\"Data type of b: {}\".format(b.dtype))\n",
    "print(\"Shape of b: {}\".format(b.shape))\n",
    "b"
   ]
  },
  {
   "cell_type": "markdown",
   "metadata": {
    "pycharm": {
     "name": "#%% md\n"
    }
   },
   "source": [
    "As we noted above, you can initialize a 1-D array with a python list. However,\n",
    "most of the time we're interested in higher-dimensional arrays like 2-D arrays\n",
    "(matrices). You can initialize them using nested Python lists:"
   ]
  },
  {
   "cell_type": "code",
   "execution_count": 7,
   "metadata": {
    "pycharm": {
     "name": "#%%\n"
    }
   },
   "outputs": [
    {
     "name": "stdout",
     "output_type": "stream",
     "text": [
      "Shape of c: (3, 2)\n"
     ]
    },
    {
     "data": {
      "text/plain": [
       "array([[1, 2],\n",
       "       [3, 4],\n",
       "       [5, 6]])"
      ]
     },
     "execution_count": 7,
     "metadata": {},
     "output_type": "execute_result"
    }
   ],
   "source": [
    "# A 2-D array\n",
    "c = np.array([[1, 2],\n",
    "              [3, 4],\n",
    "              [5, 6]])\n",
    "\n",
    "print(\"Shape of c: {}\".format(c.shape))\n",
    "c"
   ]
  },
  {
   "cell_type": "markdown",
   "metadata": {
    "pycharm": {
     "name": "#%% md\n"
    }
   },
   "source": [
    "Note that the length of the __outer__ list is the first dimension (in this\n",
    "case of length 3), while the lengths of the __inner__ lists are the second\n",
    "dimension (in this case of length 2).\n",
    "\n",
    "It's easy to get your dimensions/shapes mixed up if you get the order confused.\n",
    "Just remember that the number of (horizontal) rows is always the first\n",
    "dimension, and the number of (vertical) columns is the second dimension."
   ]
  },
  {
   "cell_type": "markdown",
   "metadata": {
    "pycharm": {
     "name": "#%% md\n"
    }
   },
   "source": [
    "In addition to the basic `np.array`, NumPy provides a bunch of other convenient\n",
    "methods to create different types of arrays/matrices (to save you from\n",
    "typing out the data by hand, or having to use loops or Python list\n",
    "comprehensions). Some useful ones include:"
   ]
  },
  {
   "cell_type": "code",
   "execution_count": 15,
   "metadata": {
    "pycharm": {
     "name": "#%%\n"
    }
   },
   "outputs": [
    {
     "data": {
      "text/plain": [
       "array([[0., 0., 0., 0.],\n",
       "       [0., 0., 0., 0.],\n",
       "       [0., 0., 0., 0.]])"
      ]
     },
     "execution_count": 15,
     "metadata": {},
     "output_type": "execute_result"
    }
   ],
   "source": [
    "# To create an all-zero array with the given shape (3, 4)\n",
    "zeros = np.zeros((3, 4))\n",
    "zeros"
   ]
  },
  {
   "cell_type": "code",
   "execution_count": 16,
   "metadata": {
    "pycharm": {
     "name": "#%%\n"
    }
   },
   "outputs": [
    {
     "data": {
      "text/plain": [
       "array([[1., 1.],\n",
       "       [1., 1.]])"
      ]
     },
     "execution_count": 16,
     "metadata": {},
     "output_type": "execute_result"
    }
   ],
   "source": [
    "# To create an all-ones array\n",
    "ones = np.ones((2, 2))\n",
    "ones"
   ]
  },
  {
   "cell_type": "code",
   "execution_count": 17,
   "metadata": {
    "pycharm": {
     "name": "#%%\n"
    }
   },
   "outputs": [
    {
     "data": {
      "text/plain": [
       "array([[1., 1.],\n",
       "       [1., 1.]])"
      ]
     },
     "execution_count": 17,
     "metadata": {},
     "output_type": "execute_result"
    }
   ],
   "source": [
    "# To create an uninitialized array (junk values). This is useful if you know\n",
    "# you're going to manually fill/overwrite the entire array anyways (it saves\n",
    "# the time NumPy would have spent to set every entry to a particular value)\n",
    "# NOTE: Do NOT confuse this with np.zeros(). \"empty\" does not mean all zeroes,\n",
    "# it just means we don't care what is in it. It could be all zeros, it could\n",
    "# be all ones, it could be anything at all.\n",
    "empty = np.empty((2, 2))\n",
    "empty"
   ]
  },
  {
   "cell_type": "code",
   "execution_count": 18,
   "metadata": {
    "pycharm": {
     "name": "#%%\n"
    }
   },
   "outputs": [
    {
     "data": {
      "text/plain": [
       "array([[5, 5, 5],\n",
       "       [5, 5, 5],\n",
       "       [5, 5, 5]])"
      ]
     },
     "execution_count": 18,
     "metadata": {},
     "output_type": "execute_result"
    }
   ],
   "source": [
    "# To create an array filled with a single value\n",
    "filled = np.full((3, 3), 5)\n",
    "filled"
   ]
  },
  {
   "cell_type": "code",
   "execution_count": 19,
   "metadata": {
    "pycharm": {
     "name": "#%%\n"
    }
   },
   "outputs": [
    {
     "data": {
      "text/plain": [
       "array([[1., 0., 0.],\n",
       "       [0., 1., 0.],\n",
       "       [0., 0., 1.]])"
      ]
     },
     "execution_count": 19,
     "metadata": {},
     "output_type": "execute_result"
    }
   ],
   "source": [
    "# To create an identity matrix\n",
    "identity = np.identity(3)\n",
    "identity"
   ]
  },
  {
   "cell_type": "code",
   "execution_count": 20,
   "metadata": {
    "pycharm": {
     "name": "#%%\n"
    }
   },
   "outputs": [
    {
     "data": {
      "text/plain": [
       "array([[0.13933868, 0.28391671],\n",
       "       [0.46481011, 0.59673683]])"
      ]
     },
     "execution_count": 20,
     "metadata": {},
     "output_type": "execute_result"
    }
   ],
   "source": [
    "# To create an array filled with random values sampled uniformly\n",
    "# from [0.0, 1.0)\n",
    "random = np.random.random((2, 2))\n",
    "random"
   ]
  },
  {
   "cell_type": "markdown",
   "metadata": {
    "pycharm": {
     "name": "#%% md\n"
    }
   },
   "source": [
    "Finally, once we have an array that we've initialized with data, we can also\n",
    "reshape it without changing its data using np.reshape!\n",
    "\n",
    "Check out this example:"
   ]
  },
  {
   "cell_type": "code",
   "execution_count": 21,
   "metadata": {
    "pycharm": {
     "name": "#%%\n"
    }
   },
   "outputs": [
    {
     "name": "stdout",
     "output_type": "stream",
     "text": [
      "a.shape = (2, 3)\n"
     ]
    },
    {
     "data": {
      "text/plain": [
       "array([[1, 2, 3],\n",
       "       [4, 5, 6]])"
      ]
     },
     "execution_count": 21,
     "metadata": {},
     "output_type": "execute_result"
    }
   ],
   "source": [
    "a = np.array([[1, 2, 3],\n",
    "              [4, 5, 6]])\n",
    "print(\"a.shape = {}\".format(a.shape))\n",
    "a"
   ]
  },
  {
   "cell_type": "code",
   "execution_count": 22,
   "metadata": {
    "pycharm": {
     "name": "#%%\n"
    }
   },
   "outputs": [
    {
     "name": "stdout",
     "output_type": "stream",
     "text": [
      "a_reshaped.shape = (3, 2)\n"
     ]
    },
    {
     "data": {
      "text/plain": [
       "array([[1, 2],\n",
       "       [3, 4],\n",
       "       [5, 6]])"
      ]
     },
     "execution_count": 22,
     "metadata": {},
     "output_type": "execute_result"
    }
   ],
   "source": [
    "a_reshaped = a.reshape((3, 2))\n",
    "print(\"a_reshaped.shape = {}\".format(a_reshaped.shape))\n",
    "a_reshaped"
   ]
  },
  {
   "cell_type": "code",
   "execution_count": 23,
   "metadata": {
    "pycharm": {
     "name": "#%%\n"
    }
   },
   "outputs": [
    {
     "name": "stdout",
     "output_type": "stream",
     "text": [
      "a_reshaped.shape = (6,)\n"
     ]
    },
    {
     "data": {
      "text/plain": [
       "array([1, 2, 3, 4, 5, 6])"
      ]
     },
     "execution_count": 23,
     "metadata": {},
     "output_type": "execute_result"
    }
   ],
   "source": [
    "a_reshaped = a.reshape((6,))\n",
    "print(\"a_reshaped.shape = {}\".format(a_reshaped.shape))\n",
    "a_reshaped"
   ]
  },
  {
   "cell_type": "code",
   "execution_count": 24,
   "metadata": {
    "pycharm": {
     "name": "#%%\n"
    }
   },
   "outputs": [
    {
     "ename": "ValueError",
     "evalue": "cannot reshape array of size 6 into shape (7,)",
     "output_type": "error",
     "traceback": [
      "\u001b[0;31m---------------------------------------------------------------------------\u001b[0m",
      "\u001b[0;31mValueError\u001b[0m                                Traceback (most recent call last)",
      "\u001b[0;32m<ipython-input-24-af5b70a8bafa>\u001b[0m in \u001b[0;36m<module>\u001b[0;34m\u001b[0m\n\u001b[1;32m      1\u001b[0m \u001b[0;31m# Note what happens if we try to reshape to a shape with a different number\u001b[0m\u001b[0;34m\u001b[0m\u001b[0;34m\u001b[0m\u001b[0;34m\u001b[0m\u001b[0m\n\u001b[1;32m      2\u001b[0m \u001b[0;31m# of elements:\u001b[0m\u001b[0;34m\u001b[0m\u001b[0;34m\u001b[0m\u001b[0;34m\u001b[0m\u001b[0m\n\u001b[0;32m----> 3\u001b[0;31m \u001b[0ma_reshaped\u001b[0m \u001b[0;34m=\u001b[0m \u001b[0ma\u001b[0m\u001b[0;34m.\u001b[0m\u001b[0mreshape\u001b[0m\u001b[0;34m(\u001b[0m\u001b[0;34m(\u001b[0m\u001b[0;36m7\u001b[0m\u001b[0;34m,\u001b[0m\u001b[0;34m)\u001b[0m\u001b[0;34m)\u001b[0m\u001b[0;34m\u001b[0m\u001b[0;34m\u001b[0m\u001b[0m\n\u001b[0m",
      "\u001b[0;31mValueError\u001b[0m: cannot reshape array of size 6 into shape (7,)"
     ]
    }
   ],
   "source": [
    "# Note what happens if we try to reshape to a shape with a different number\n",
    "# of elements:\n",
    "a_reshaped = a.reshape((7,))"
   ]
  },
  {
   "cell_type": "markdown",
   "metadata": {
    "pycharm": {
     "name": "#%% md\n"
    }
   },
   "source": [
    "### Exercise 2 -- Indexing and slicing\n",
    "\n",
    "Arrays can be initialized with lists, as we saw, and in many ways they behave\n",
    "a lot like Python lists! You can access specific elements by their index\n",
    "(starting with zero, just like in Python lists), and modify them:"
   ]
  },
  {
   "cell_type": "code",
   "execution_count": 25,
   "metadata": {
    "pycharm": {
     "name": "#%%\n"
    }
   },
   "outputs": [],
   "source": [
    "a = np.array([1.0, 2.0, 3.0, 4.0, 5.0])"
   ]
  },
  {
   "cell_type": "code",
   "execution_count": 26,
   "metadata": {
    "pycharm": {
     "name": "#%%\n"
    }
   },
   "outputs": [],
   "source": [
    "b = np.array([[1, 2, 3],\n",
    "              [4, 5, 6],\n",
    "              [7, 8, 9]])"
   ]
  },
  {
   "cell_type": "code",
   "execution_count": 27,
   "metadata": {
    "pycharm": {
     "name": "#%%\n"
    }
   },
   "outputs": [
    {
     "name": "stdout",
     "output_type": "stream",
     "text": [
      "a[0] = 1.0\n",
      "a[3] = 4.0\n"
     ]
    }
   ],
   "source": [
    "# You can access elements in an array like a Python list by indexing:\n",
    "print(\"a[0] = {}\".format(a[0]))\n",
    "print(\"a[3] = {}\".format(a[3]))"
   ]
  },
  {
   "cell_type": "code",
   "execution_count": 28,
   "metadata": {
    "pycharm": {
     "name": "#%%\n"
    }
   },
   "outputs": [
    {
     "name": "stdout",
     "output_type": "stream",
     "text": [
      "b[0, 0] = 1\n",
      "b[2, 2] = 9\n",
      "b[1, 2] = 6\n"
     ]
    }
   ],
   "source": [
    "# You can index into higher-dimensional arrays the same way.\n",
    "\n",
    "# NOTE: If you had nested python lists instead of a NumPy array, you'd\n",
    "# need to do something like b[0][1] instead of b[0, 1], so it's a little\n",
    "# different, but the idea is the same.\n",
    "print(\"b[0, 0] = {}\".format(b[0, 0]))\n",
    "print(\"b[2, 2] = {}\".format(b[2, 2]))\n",
    "print(\"b[1, 2] = {}\".format(b[1, 2]))"
   ]
  },
  {
   "cell_type": "code",
   "execution_count": 29,
   "metadata": {
    "pycharm": {
     "name": "#%%\n"
    }
   },
   "outputs": [
    {
     "name": "stdout",
     "output_type": "stream",
     "text": [
      "a before:\n",
      " [1. 2. 3. 4. 5.]\n",
      "\n",
      "a after:\n",
      " [1. 2. 9. 4. 5.]\n",
      "\n"
     ]
    }
   ],
   "source": [
    "# You can also modify elements just like in a Python list\n",
    "print(\"a before:\\n {}\\n\".format(a))\n",
    "a[2] = 9.0\n",
    "print(\"a after:\\n {}\\n\".format(a))"
   ]
  },
  {
   "cell_type": "markdown",
   "metadata": {
    "pycharm": {
     "name": "#%% md\n"
    }
   },
   "source": [
    "NumPy also supports more complex forms of indexing (like slicing), which\n",
    "also behaves similarly to Python lists:"
   ]
  },
  {
   "cell_type": "code",
   "execution_count": 30,
   "metadata": {
    "pycharm": {
     "name": "#%%\n"
    }
   },
   "outputs": [],
   "source": [
    "# This is just a Python list for comparison\n",
    "example_list = [1, 2, 3, 4, 5, 6]"
   ]
  },
  {
   "cell_type": "code",
   "execution_count": 31,
   "metadata": {
    "pycharm": {
     "name": "#%%\n"
    }
   },
   "outputs": [
    {
     "name": "stdout",
     "output_type": "stream",
     "text": [
      "example_list[1:3] = [2, 3]\n",
      "example_list[:3] = [1, 2, 3]\n",
      "example_list[1:] = [2, 3, 4, 5, 6]\n",
      "example_list[:] = [1, 2, 3, 4, 5, 6]\n"
     ]
    }
   ],
   "source": [
    "# Recall how we can slice a Python list\n",
    "\n",
    "# This gives a slice containing every element starting from position/index 1\n",
    "# (inclusive) up to but EXCLUDING the element at position/index 3\n",
    "print(\"example_list[1:3] = {}\".format(example_list[1:3]))\n",
    "\n",
    "# You can also omit the start and end index and it will use the start/end of the\n",
    "# list instead\n",
    "print(\"example_list[:3] = {}\".format(example_list[:3]))\n",
    "print(\"example_list[1:] = {}\".format(example_list[1:]))\n",
    "print(\"example_list[:] = {}\".format(example_list[:]))"
   ]
  },
  {
   "cell_type": "code",
   "execution_count": 32,
   "metadata": {
    "pycharm": {
     "name": "#%%\n"
    }
   },
   "outputs": [],
   "source": [
    "# NumPy works exactly the same way\n",
    "\n",
    "a = np.array([1, 2, 3, 4, 5, 6])"
   ]
  },
  {
   "cell_type": "code",
   "execution_count": 33,
   "metadata": {
    "pycharm": {
     "name": "#%%\n"
    }
   },
   "outputs": [
    {
     "name": "stdout",
     "output_type": "stream",
     "text": [
      "a[1:3] = [2 3]\n",
      "a[:3] = [1 2 3]\n",
      "a[1:] = [2 3 4 5 6]\n",
      "a[1:] = [1 2 3 4 5 6]\n"
     ]
    }
   ],
   "source": [
    "print(\"a[1:3] = {}\".format(a[1:3]))\n",
    "print(\"a[:3] = {}\".format(a[:3]))\n",
    "print(\"a[1:] = {}\".format(a[1:]))\n",
    "print(\"a[1:] = {}\".format(a[:]))"
   ]
  },
  {
   "cell_type": "code",
   "execution_count": 34,
   "metadata": {},
   "outputs": [
    {
     "data": {
      "text/plain": [
       "array([2, 4, 5])"
      ]
     },
     "execution_count": 34,
     "metadata": {},
     "output_type": "execute_result"
    }
   ],
   "source": [
    "# index with a list\n",
    "a[[1,3,4]]"
   ]
  },
  {
   "cell_type": "markdown",
   "metadata": {
    "pycharm": {
     "name": "#%% md\n"
    }
   },
   "source": [
    "We can modify slices just like how we modified elements using indexing:"
   ]
  },
  {
   "cell_type": "code",
   "execution_count": 35,
   "metadata": {
    "pycharm": {
     "name": "#%%\n"
    }
   },
   "outputs": [
    {
     "name": "stdout",
     "output_type": "stream",
     "text": [
      "a before:\n",
      " [1 2 3 4 5 6]\n",
      "\n",
      "a after:\n",
      " [1 8 9 4 5 6]\n",
      "\n"
     ]
    }
   ],
   "source": [
    "print(\"a before:\\n {}\\n\".format(a))\n",
    "a[1:3] = [8, 9]\n",
    "print(\"a after:\\n {}\\n\".format(a))"
   ]
  },
  {
   "cell_type": "markdown",
   "metadata": {
    "pycharm": {
     "name": "#%% md\n"
    }
   },
   "source": [
    "We can also slice multi-dimensional arrays. Try to figure out what each\n",
    "of the expression below will give before running them, to check your\n",
    "intuition:"
   ]
  },
  {
   "cell_type": "code",
   "execution_count": 36,
   "metadata": {
    "pycharm": {
     "name": "#%%\n"
    }
   },
   "outputs": [],
   "source": [
    "b = np.array([[1, 2, 3],\n",
    "              [4, 5, 6],\n",
    "              [7, 8, 9]])"
   ]
  },
  {
   "cell_type": "code",
   "execution_count": 37,
   "metadata": {
    "pycharm": {
     "name": "#%%\n"
    }
   },
   "outputs": [
    {
     "name": "stdout",
     "output_type": "stream",
     "text": [
      "b[:, :] =>\n",
      " [[1 2 3]\n",
      " [4 5 6]\n",
      " [7 8 9]]\n",
      "\n",
      "b[1, :] =>\n",
      " [4 5 6]\n",
      "\n",
      "b[:, 0] =>\n",
      " [1 4 7]\n",
      "\n",
      "b[1, :2] =>\n",
      " [4 5]\n",
      "\n"
     ]
    }
   ],
   "source": [
    "print(\"b[:, :] =>\\n {}\\n\".format(b[:, :]))\n",
    "print(\"b[1, :] =>\\n {}\\n\".format(b[1, :]))\n",
    "\n",
    "# Note that 1-D arrays are always treated as row vectors (horizontal)\n",
    "print(\"b[:, 0] =>\\n {}\\n\".format(b[:, 0]))\n",
    "print(\"b[1, :2] =>\\n {}\\n\".format(b[1, :2]))"
   ]
  },
  {
   "cell_type": "code",
   "execution_count": 38,
   "metadata": {
    "pycharm": {
     "name": "#%%\n"
    }
   },
   "outputs": [
    {
     "name": "stdout",
     "output_type": "stream",
     "text": [
      "b before:\n",
      " [[1 2 3]\n",
      " [4 5 6]\n",
      " [7 8 9]]\n",
      "\n",
      "b after:\n",
      " [[0 2 3]\n",
      " [0 5 6]\n",
      " [0 8 9]]\n",
      "\n"
     ]
    }
   ],
   "source": [
    "# Modifying a slice of a 2-D arrays\n",
    "\n",
    "print(\"b before:\\n {}\\n\".format(b))\n",
    "b[:, 0] = 0\n",
    "print(\"b after:\\n {}\\n\".format(b))"
   ]
  },
  {
   "cell_type": "markdown",
   "metadata": {
    "pycharm": {
     "name": "#%% md\n"
    }
   },
   "source": [
    "It's important to think carefully about the shapes/dimensions of the slices\n",
    "that you extract. Depending on how you slice, your result could have fewer\n",
    "dimensions than the original array, or the same number.\n",
    "\n",
    "Think about what shapes you'd expect these slices to be,\n",
    "then run the cell below to double-check:\n",
    "\n",
    "Do the results make sense to you? If not, can you figure out why the shapes came\n",
    "out as they did?"
   ]
  },
  {
   "cell_type": "code",
   "execution_count": 39,
   "metadata": {
    "pycharm": {
     "name": "#%%\n"
    }
   },
   "outputs": [
    {
     "name": "stdout",
     "output_type": "stream",
     "text": [
      "shape(b[:, :]) = (3, 3)\n",
      "shape(b[1, :]) = (3,)\n",
      "shape(b[1:2, :]) = (1, 3)\n",
      "shape(b[:, 0]) = (3,)\n",
      "shape(b[:, 0:1]) = (3, 1)\n"
     ]
    }
   ],
   "source": [
    "print(\"shape(b[:, :]) = {}\".format(b[:, :].shape))\n",
    "print(\"shape(b[1, :]) = {}\".format(b[1, :].shape))\n",
    "print(\"shape(b[1:2, :]) = {}\".format(b[1:2, :].shape))\n",
    "print(\"shape(b[:, 0]) = {}\".format(b[:, 0].shape))\n",
    "print(\"shape(b[:, 0:1]) = {}\".format(b[:, 0:1].shape))"
   ]
  },
  {
   "cell_type": "markdown",
   "metadata": {
    "pycharm": {
     "name": "#%% md\n"
    }
   },
   "source": [
    "### Exercise 3 -- Array Math and Functions\n",
    "\n",
    "We covered creating arrays and reading/writing elements in them, but the main\n",
    "reason we use NumPy in the first place is to do math with arrays (linear\n",
    "algebra). For the most part, array/vector math in NumPy is extremely\n",
    "straight-forward and intuitive. You can add, subtract, multiply, etc. NumPy\n",
    "arrays just like they were Python numbers and NumPy will take care of everything\n",
    "for you!\n",
    "\n",
    "For example:"
   ]
  },
  {
   "cell_type": "code",
   "execution_count": 40,
   "metadata": {
    "pycharm": {
     "name": "#%%\n"
    }
   },
   "outputs": [],
   "source": [
    "a = np.array([[1,2],\n",
    "              [3,4]])"
   ]
  },
  {
   "cell_type": "code",
   "execution_count": 41,
   "metadata": {
    "pycharm": {
     "name": "#%%\n"
    }
   },
   "outputs": [],
   "source": [
    "b = np.array([[3,3],\n",
    "              [4,4]])\n"
   ]
  },
  {
   "cell_type": "markdown",
   "metadata": {
    "pycharm": {
     "name": "#%% md\n"
    }
   },
   "source": [
    "Note that for all the below element-wise operations, the two\n",
    "arrays being added/subtracted/multiplied etc. must have the same shape!\n",
    "(we'll talk about an exception to this rule in the next exercise)\n",
    "\n",
    "Also note that for many matrix operations, there's two ways of\n",
    "writing it in NumPy. Either you can call a dedicated function, or you\n",
    "can use the standard \"+, -, *, /\" operators on NumPy arrays as if\n",
    "they were just numbers"
   ]
  },
  {
   "cell_type": "code",
   "execution_count": 42,
   "metadata": {
    "pycharm": {
     "name": "#%%\n"
    }
   },
   "outputs": [
    {
     "name": "stdout",
     "output_type": "stream",
     "text": [
      "a + b =>\n",
      " [[4 5]\n",
      " [7 8]]\n",
      "\n",
      "np.add(a, b) =>\n",
      " [[4 5]\n",
      " [7 8]]\n",
      "\n",
      "b - a =>\n",
      " [[2 1]\n",
      " [1 0]]\n",
      "\n",
      "np.subtract(b, a) =>\n",
      " [[2 1]\n",
      " [1 0]]\n",
      "\n",
      "a * b =>\n",
      " [[ 3  6]\n",
      " [12 16]]\n",
      "\n",
      "np.multiply(a, b) =>\n",
      " [[ 3  6]\n",
      " [12 16]]\n",
      "\n",
      "a / b =>\n",
      " [[0.33333333 0.66666667]\n",
      " [0.75       1.        ]]\n",
      "\n",
      "np.divide(a, b) =>\n",
      " [[0.33333333 0.66666667]\n",
      " [0.75       1.        ]]\n",
      "\n"
     ]
    }
   ],
   "source": [
    "# To take an element-wise sum\n",
    "print(\"a + b =>\\n {}\\n\".format(a + b))\n",
    "print(\"np.add(a, b) =>\\n {}\\n\".format(np.add(a, b)))\n",
    "\n",
    "# To take an element-wise difference\n",
    "print(\"b - a =>\\n {}\\n\".format(b - a))\n",
    "print(\"np.subtract(b, a) =>\\n {}\\n\".format(np.subtract(b, a)))\n",
    "\n",
    "# To take an element-wise product\n",
    "print(\"a * b =>\\n {}\\n\".format(a * b))\n",
    "print(\"np.multiply(a, b) =>\\n {}\\n\".format(np.multiply(a, b)))\n",
    "\n",
    "# To take an element-wise quotient\n",
    "print(\"a / b =>\\n {}\\n\".format(a / b))\n",
    "print(\"np.divide(a, b) =>\\n {}\\n\".format(np.divide(a, b)))"
   ]
  },
  {
   "cell_type": "code",
   "execution_count": 43,
   "metadata": {
    "pycharm": {
     "name": "#%%\n"
    }
   },
   "outputs": [
    {
     "ename": "ValueError",
     "evalue": "operands could not be broadcast together with shapes (3,) (2,) ",
     "output_type": "error",
     "traceback": [
      "\u001b[0;31m---------------------------------------------------------------------------\u001b[0m",
      "\u001b[0;31mValueError\u001b[0m                                Traceback (most recent call last)",
      "\u001b[0;32m<ipython-input-43-2a5fe28afac7>\u001b[0m in \u001b[0;36m<module>\u001b[0;34m\u001b[0m\n\u001b[1;32m      4\u001b[0m \u001b[0mb\u001b[0m \u001b[0;34m=\u001b[0m \u001b[0mnp\u001b[0m\u001b[0;34m.\u001b[0m\u001b[0marray\u001b[0m\u001b[0;34m(\u001b[0m\u001b[0;34m[\u001b[0m\u001b[0;36m1\u001b[0m\u001b[0;34m,\u001b[0m \u001b[0;36m2\u001b[0m\u001b[0;34m]\u001b[0m\u001b[0;34m)\u001b[0m\u001b[0;34m\u001b[0m\u001b[0;34m\u001b[0m\u001b[0m\n\u001b[1;32m      5\u001b[0m \u001b[0;34m\u001b[0m\u001b[0m\n\u001b[0;32m----> 6\u001b[0;31m \u001b[0ma\u001b[0m \u001b[0;34m+\u001b[0m \u001b[0mb\u001b[0m\u001b[0;34m\u001b[0m\u001b[0;34m\u001b[0m\u001b[0m\n\u001b[0m",
      "\u001b[0;31mValueError\u001b[0m: operands could not be broadcast together with shapes (3,) (2,) "
     ]
    }
   ],
   "source": [
    "# Note what happens when the shapes don't match\n",
    "\n",
    "a = np.array([1, 2, 3])\n",
    "b = np.array([1, 2])\n",
    "\n",
    "a + b"
   ]
  },
  {
   "cell_type": "markdown",
   "metadata": {
    "pycharm": {
     "name": "#%% md\n"
    }
   },
   "source": [
    "NumPy also provides a bunch of super-useful functions to compute mathematical\n",
    "functions of NumPy arrays, or do other common operations.\n",
    "Some commonly used ones that you might find useful include:"
   ]
  },
  {
   "cell_type": "code",
   "execution_count": 44,
   "metadata": {
    "pycharm": {
     "name": "#%%\n"
    }
   },
   "outputs": [],
   "source": [
    "a = np.array([1, 2, 3])\n",
    "\n",
    "b = np.array([[1, 2, 3],\n",
    "              [4, 5, 6]])\n",
    "\n",
    "c = np.array([2, 3, 4])\n",
    "\n",
    "d = np.array([[3, 4],\n",
    "              [5, 6],\n",
    "              [7, 8]])"
   ]
  },
  {
   "cell_type": "code",
   "execution_count": 45,
   "metadata": {
    "pycharm": {
     "name": "#%%\n"
    }
   },
   "outputs": [
    {
     "data": {
      "text/plain": [
       "6"
      ]
     },
     "execution_count": 45,
     "metadata": {},
     "output_type": "execute_result"
    }
   ],
   "source": [
    "# Sum all the elements in an array\n",
    "np.sum(a)"
   ]
  },
  {
   "cell_type": "code",
   "execution_count": 46,
   "metadata": {
    "pycharm": {
     "name": "#%%\n"
    }
   },
   "outputs": [
    {
     "data": {
      "text/plain": [
       "array([ 6, 15])"
      ]
     },
     "execution_count": 46,
     "metadata": {},
     "output_type": "execute_result"
    }
   ],
   "source": [
    "# Sum elements along an axis/dimension\n",
    "np.sum(b, axis=1)"
   ]
  },
  {
   "cell_type": "code",
   "execution_count": 47,
   "metadata": {
    "pycharm": {
     "name": "#%%\n"
    }
   },
   "outputs": [
    {
     "data": {
      "text/plain": [
       "array([0.        , 0.69314718, 1.09861229])"
      ]
     },
     "execution_count": 47,
     "metadata": {},
     "output_type": "execute_result"
    }
   ],
   "source": [
    "# Take (natural) log element-wise\n",
    "np.log(a)"
   ]
  },
  {
   "cell_type": "code",
   "execution_count": 48,
   "metadata": {
    "pycharm": {
     "name": "#%%\n"
    }
   },
   "outputs": [
    {
     "data": {
      "text/plain": [
       "array([ 2.71828183,  7.3890561 , 20.08553692])"
      ]
     },
     "execution_count": 48,
     "metadata": {},
     "output_type": "execute_result"
    }
   ],
   "source": [
    "# Take exponential (e^x) element-wise\n",
    "np.exp(a)"
   ]
  },
  {
   "cell_type": "code",
   "execution_count": 49,
   "metadata": {
    "pycharm": {
     "name": "#%%\n"
    }
   },
   "outputs": [
    {
     "data": {
      "text/plain": [
       "array([1.        , 1.41421356, 1.73205081])"
      ]
     },
     "execution_count": 49,
     "metadata": {},
     "output_type": "execute_result"
    }
   ],
   "source": [
    "# Take square root element-wise\n",
    "np.sqrt(a)"
   ]
  },
  {
   "cell_type": "code",
   "execution_count": 50,
   "metadata": {
    "pycharm": {
     "name": "#%%\n"
    }
   },
   "outputs": [
    {
     "name": "stdout",
     "output_type": "stream",
     "text": [
      "np.max(a) = 3\n",
      "np.max(b) = 6\n",
      "np.max(b, axis=1) = [3 6]\n"
     ]
    }
   ],
   "source": [
    "# Get maximum element in an array\n",
    "print(\"np.max(a) = {}\".format(np.max(a)))\n",
    "print(\"np.max(b) = {}\".format(np.max(b)))\n",
    "print(\"np.max(b, axis=1) = {}\".format(np.max(b, axis=1)))"
   ]
  },
  {
   "cell_type": "code",
   "execution_count": 51,
   "metadata": {
    "pycharm": {
     "name": "#%%\n"
    }
   },
   "outputs": [
    {
     "data": {
      "text/plain": [
       "2"
      ]
     },
     "execution_count": 51,
     "metadata": {},
     "output_type": "execute_result"
    }
   ],
   "source": [
    "# Get index of maximum element in an array\n",
    "np.argmax(a)"
   ]
  },
  {
   "cell_type": "code",
   "execution_count": 52,
   "metadata": {
    "pycharm": {
     "name": "#%%\n"
    }
   },
   "outputs": [
    {
     "data": {
      "text/plain": [
       "2.0"
      ]
     },
     "execution_count": 52,
     "metadata": {},
     "output_type": "execute_result"
    }
   ],
   "source": [
    "# Get average of all elements in array\n",
    "np.mean(a)"
   ]
  },
  {
   "cell_type": "code",
   "execution_count": 53,
   "metadata": {
    "pycharm": {
     "name": "#%%\n"
    }
   },
   "outputs": [
    {
     "data": {
      "text/plain": [
       "20"
      ]
     },
     "execution_count": 53,
     "metadata": {},
     "output_type": "execute_result"
    }
   ],
   "source": [
    "# Take a dot product between two arrays\n",
    "# In this case, two vectors (1-D arrays)\n",
    "np.dot(a, c)"
   ]
  },
  {
   "cell_type": "code",
   "execution_count": 54,
   "metadata": {
    "pycharm": {
     "name": "#%%\n"
    }
   },
   "outputs": [
    {
     "name": "stdout",
     "output_type": "stream",
     "text": [
      "b @ d =>\n",
      " [[34 40]\n",
      " [79 94]]\n",
      "\n",
      "np.matmul(b, d) =>\n",
      " [[34 40]\n",
      " [79 94]]\n",
      "\n"
     ]
    }
   ],
   "source": [
    "# Matrix-multiply two arrays\n",
    "print(\"b @ d =>\\n {}\\n\".format(b @ d))\n",
    "print(\"np.matmul(b, d) =>\\n {}\\n\".format(np.matmul(b, d)))"
   ]
  },
  {
   "cell_type": "code",
   "execution_count": 55,
   "metadata": {
    "pycharm": {
     "name": "#%%\n"
    }
   },
   "outputs": [
    {
     "data": {
      "text/plain": [
       "3.7416573867739413"
      ]
     },
     "execution_count": 55,
     "metadata": {},
     "output_type": "execute_result"
    }
   ],
   "source": [
    "# Get the norm (magnitude) of a matrix/vector\n",
    "# You can specify different types of norm, but by default it does the\n",
    "# 2-norm, which is only vector norm that we'll see in this class.\n",
    "np.linalg.norm(a)"
   ]
  },
  {
   "cell_type": "markdown",
   "metadata": {
    "pycharm": {
     "name": "#%% md\n"
    }
   },
   "source": [
    "__NOTE:__ In general, for most NumPy functions that operate on an entire array,\n",
    "you can also specify a dimension or dimensions to apply it along\n",
    "\n",
    "__NOTE:__ There are also other packages that build off of NumPy or\n",
    "use NumPy arrays.\n",
    "We'll very briefly encounter a few examples later in the class like SciPy\n",
    "and PyTorch. For the most part, these packages tend to work very similarly to\n",
    "the built-in NumPy functions above."
   ]
  },
  {
   "cell_type": "markdown",
   "metadata": {},
   "source": [
    "### Vectorization"
   ]
  },
  {
   "cell_type": "code",
   "execution_count": 88,
   "metadata": {},
   "outputs": [],
   "source": [
    "arrays = np.random.random((1000, 1000))\n",
    "other_array = np.random.random((1000))"
   ]
  },
  {
   "cell_type": "code",
   "execution_count": 92,
   "metadata": {},
   "outputs": [
    {
     "name": "stdout",
     "output_type": "stream",
     "text": [
      "538 267.11303993265216\n",
      "CPU times: user 667 ms, sys: 2.88 ms, total: 670 ms\n",
      "Wall time: 670 ms\n"
     ]
    }
   ],
   "source": [
    "%%time\n",
    "\n",
    "#Compute the max inner product\n",
    "max_i = 0\n",
    "max_val = 0\n",
    "for  i in range(1000):\n",
    "    idp = 0\n",
    "    for j in range(1000):\n",
    "        idp += arrays[i][j] * other_array[j]\n",
    "    if idp > max_val:\n",
    "        max_val = idp\n",
    "        max_i = i\n",
    "print(max_i, max_val)\n",
    "        \n"
   ]
  },
  {
   "cell_type": "code",
   "execution_count": 94,
   "metadata": {},
   "outputs": [
    {
     "name": "stdout",
     "output_type": "stream",
     "text": [
      "538 267.1130399326523\n",
      "CPU times: user 3.35 ms, sys: 1.15 ms, total: 4.5 ms\n",
      "Wall time: 1.61 ms\n"
     ]
    }
   ],
   "source": [
    "%%time\n",
    "\n",
    "arrays = np.array(arrays)\n",
    "other_array = np.array(other_array)\n",
    "idps = np.dot(arrays, other_array)\n",
    "print(np.argmax(idps), np.max(idps))\n"
   ]
  },
  {
   "cell_type": "markdown",
   "metadata": {},
   "source": [
    "### Exercise 4 -- Broadcasting\n",
    "\n",
    "A final topic that may be useful to you is broadcasting. It's one of the\n",
    "most useful and powerful features of NumPy, because it lets you write matrix/\n",
    "array operations in a natural way without having to be too specific\n",
    "about what you want NumPy to do.\n",
    "\n",
    "In most cases, NumPy can use broadcasting to infer what you wanted to do\n",
    "and do it. Let's look at an example:"
   ]
  },
  {
   "cell_type": "code",
   "execution_count": 56,
   "metadata": {
    "pycharm": {
     "name": "#%%\n"
    }
   },
   "outputs": [
    {
     "data": {
      "text/plain": [
       "array([[1., 1.]])"
      ]
     },
     "execution_count": 56,
     "metadata": {},
     "output_type": "execute_result"
    }
   ],
   "source": [
    "# Create a multi-dimensional (2 x 1) matrix of ones\n",
    "a = np.ones((1,2))\n",
    "a"
   ]
  },
  {
   "cell_type": "code",
   "execution_count": 57,
   "metadata": {
    "pycharm": {
     "name": "#%%\n"
    }
   },
   "outputs": [
    {
     "data": {
      "text/plain": [
       "array([4])"
      ]
     },
     "execution_count": 57,
     "metadata": {},
     "output_type": "execute_result"
    }
   ],
   "source": [
    "# Create a single-element 1-D array\n",
    "b = np.array([4])\n",
    "b"
   ]
  },
  {
   "cell_type": "markdown",
   "metadata": {
    "pycharm": {
     "name": "#%% md\n"
    }
   },
   "source": [
    "Now recall that earlier, when we tried to add, multiply, subtract, etc. two\n",
    "arrays, they had to have the same shape! Let's see what happens when we\n",
    "do some of these things with a and b:"
   ]
  },
  {
   "cell_type": "code",
   "execution_count": 58,
   "metadata": {
    "pycharm": {
     "name": "#%%\n"
    }
   },
   "outputs": [
    {
     "data": {
      "text/plain": [
       "array([[5., 5.]])"
      ]
     },
     "execution_count": 58,
     "metadata": {},
     "output_type": "execute_result"
    }
   ],
   "source": [
    "a + b"
   ]
  },
  {
   "cell_type": "code",
   "execution_count": 59,
   "metadata": {
    "pycharm": {
     "name": "#%%\n"
    }
   },
   "outputs": [
    {
     "data": {
      "text/plain": [
       "array([[-3., -3.]])"
      ]
     },
     "execution_count": 59,
     "metadata": {},
     "output_type": "execute_result"
    }
   ],
   "source": [
    "a - b"
   ]
  },
  {
   "cell_type": "code",
   "execution_count": 60,
   "metadata": {
    "pycharm": {
     "name": "#%%\n"
    }
   },
   "outputs": [
    {
     "data": {
      "text/plain": [
       "array([[4., 4.]])"
      ]
     },
     "execution_count": 60,
     "metadata": {},
     "output_type": "execute_result"
    }
   ],
   "source": [
    "a * b"
   ]
  },
  {
   "cell_type": "code",
   "execution_count": 61,
   "metadata": {
    "pycharm": {
     "name": "#%%\n"
    }
   },
   "outputs": [
    {
     "data": {
      "text/plain": [
       "array([[0.25, 0.25]])"
      ]
     },
     "execution_count": 61,
     "metadata": {},
     "output_type": "execute_result"
    }
   ],
   "source": [
    "a / b"
   ]
  },
  {
   "cell_type": "markdown",
   "metadata": {
    "pycharm": {
     "name": "#%% md\n"
    }
   },
   "source": [
    "Wait, what happened?? We just said that the shapes had to match, but `a` and `b`\n",
    "definitely don't have the same shape...\n",
    "\n",
    "This is where broadcasting comes into play. Although `a` and `b` don't have the\n",
    "same shape, they have __compatible__ shapes, so NumPy was able to guess\n",
    "what we actually wanted to do and __broadcast__ behind the scenes to make the\n",
    "operation work.\n",
    "\n",
    "What NumPy did behind the scenes in this case is see that `b` and `a` don't have\n",
    "the same shape, but also realize that maybe we meant to \"re-use\" the value in\n",
    "`b` for every value in `a`. In other words, it \"broadcast\" `b` from its\n",
    "original shape of (1,) to `a`'s shape of (2,) by duplicating the element\n",
    "in `b`.\n",
    "\n",
    "Once it did that, it could simply do the element-wise operation as usual!\n",
    "\n",
    "This makes our life a lot easier, as we didn't have to explicitly write out\n",
    "that duplication and reshaping ourselves. Of course, that assumes that this\n",
    "behavior is actually what we intended.\n",
    "\n",
    "In this case, it seems to make good sense, as if we tell it to subtract the\n",
    " array `[4]` from `[1, 1]`, it seems reasonable that what we are really asking\n",
    " for is for it to subtract 4 from each 1 in the second array."
   ]
  },
  {
   "cell_type": "markdown",
   "metadata": {
    "pycharm": {
     "name": "#%% md\n"
    }
   },
   "source": [
    "Most of the time, NumPy assumes that whenever we do an operation on two arrays\n",
    "with different shapes, we would like things to be broadcast if possible to\n",
    "make the operation work.\n",
    "\n",
    "It will then try to expand the smaller array to match the size of the bigger\n",
    "one by copying/repeating the data in the smaller array."
   ]
  },
  {
   "cell_type": "markdown",
   "metadata": {
    "pycharm": {
     "name": "#%% md\n"
    }
   },
   "source": [
    "Let's try a slightly more complicated example involving 2-D arrays:"
   ]
  },
  {
   "cell_type": "code",
   "execution_count": 62,
   "metadata": {
    "pycharm": {
     "name": "#%%\n"
    }
   },
   "outputs": [
    {
     "data": {
      "text/plain": [
       "array([[1., 1., 1.],\n",
       "       [1., 1., 1.],\n",
       "       [1., 1., 1.],\n",
       "       [1., 1., 1.]])"
      ]
     },
     "execution_count": 62,
     "metadata": {},
     "output_type": "execute_result"
    }
   ],
   "source": [
    "# Create a 2-D array of shape (4, 3)\n",
    "a = np.ones((4,3))\n",
    "a"
   ]
  },
  {
   "cell_type": "code",
   "execution_count": 63,
   "metadata": {
    "pycharm": {
     "name": "#%%\n"
    }
   },
   "outputs": [
    {
     "data": {
      "text/plain": [
       "array([[0],\n",
       "       [1],\n",
       "       [2],\n",
       "       [3]])"
      ]
     },
     "execution_count": 63,
     "metadata": {},
     "output_type": "execute_result"
    }
   ],
   "source": [
    "# Create an array of shape (4,)\n",
    "# np.arange(n) creates a vector out of increasing\n",
    "# integers from 0 to n (exclusive)\n",
    "b = np.arange(4)\n",
    "\n",
    "# Reshape to (4, 1)\n",
    "b = b.reshape((4, 1))\n",
    "b"
   ]
  },
  {
   "cell_type": "code",
   "execution_count": 64,
   "metadata": {
    "pycharm": {
     "name": "#%%\n"
    }
   },
   "outputs": [
    {
     "data": {
      "text/plain": [
       "array([[0., 0., 0.],\n",
       "       [1., 1., 1.],\n",
       "       [2., 2., 2.],\n",
       "       [3., 3., 3.]])"
      ]
     },
     "execution_count": 64,
     "metadata": {},
     "output_type": "execute_result"
    }
   ],
   "source": [
    "# Multiply them together\n",
    "b * a"
   ]
  },
  {
   "cell_type": "markdown",
   "metadata": {
    "pycharm": {
     "name": "#%% md\n"
    }
   },
   "source": [
    "Did it do what you expected? Do you see how broadcasting was applied to create\n",
    "the result?"
   ]
  },
  {
   "cell_type": "markdown",
   "metadata": {
    "pycharm": {
     "name": "#%% md\n"
    }
   },
   "source": [
    "The details and different cases for broadcasting can be tricky, even\n",
    "for experienced NumPy users! So you're certainly not expected to be use or need\n",
    "it heavily in this class. However, knowing the basics of how it works may make\n",
    "your life a little easier and your code a little simpler on some of the\n",
    "homeworks.\n",
    "\n",
    "If you ever find yourself in a confusing situation involving broadcasting, we\n",
    "definitely recommend checking out the NumPy documentation/guide here:\n",
    "https://numpy.org/doc/stable/user/basics.broadcasting.html"
   ]
  },
  {
   "cell_type": "markdown",
   "metadata": {
    "pycharm": {
     "name": "#%% md\n"
    }
   },
   "source": [
    "### Concluding Notes\n",
    "\n",
    "That's it! That's all the basic NumPy knowledge you need for the\n",
    "homeworks in this course (possibly you may not even need all of the tools we've\n",
    " introduced here).\n",
    "\n",
    "If you're interested in learning more about NumPy, we recommend:\n",
    "* The NumPy user guide (https://numpy.org/doc/stable/user/index.html)\n",
    "* This CS 231n NumPy tutorial, which we based much of the content here on, but\n",
    "which also contains some more advanced topics (https://cs231n.github.io/python-numpy-tutorial/#numpy)\n",
    "\n",
    "If you found any issues/errors in the notebook, please let us know!\n",
    "\n",
    "And if you have any further questions about using NumPy or confusion about any\n",
    "of the examples in the notebook, stop by OH or post on Piazza and the\n",
    "teaching staff will be happy to answer your questions!"
   ]
  }
 ],
 "metadata": {
  "colab": {
   "collapsed_sections": [],
   "name": "CS124 Python Exercises.ipynb",
   "provenance": []
  },
  "kernelspec": {
   "display_name": "Python 3 (ipykernel)",
   "language": "python",
   "name": "python3"
  },
  "language_info": {
   "codemirror_mode": {
    "name": "ipython",
    "version": 3
   },
   "file_extension": ".py",
   "mimetype": "text/x-python",
   "name": "python",
   "nbconvert_exporter": "python",
   "pygments_lexer": "ipython3",
   "version": "3.8.5"
  }
 },
 "nbformat": 4,
 "nbformat_minor": 1
}
