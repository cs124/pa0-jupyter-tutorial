{
 "cells": [
  {
   "cell_type": "markdown",
   "id": "4d75a3d3",
   "metadata": {},
   "source": [
    "# CS 124 Programming Assignment 0: Environment Setup & Jupyter Tutorial\n",
    "\n",
    "This assignment is your very first CS124 PA! It contains very little work, but it's very important that you complete it.\n",
    "\n",
    "The purpose of this notebook is to:\n",
    "- Verify that you are able to work with Jupyter Notebooks\n",
    "- Verify that your `cs124` environment is set up correctly\n",
    "- Verify that you understand assignment submission procedures and guidelines for this class\n",
    "\n",
    "If you need a refresher on `Python` or `Jupyter Notebooks` (or you are new to\n",
    "either of them), we strongly encourage taking a look at `jupyter_tutorial.ipynb` and `python_tutorial.ipynb`.\n",
    "\n",
    "**PA0 must be submitted individually.** In general, we encourage you to work with a partner for CS124 PAs! But for PA0, we want to make sure each and every one of us has our Jupyter Notebooks working and `cs124` environment set up. So, please make sure that you make a submission for yourself to Gradescope using the details below."
   ]
  },
  {
   "cell_type": "markdown",
   "id": "1284a11f",
   "metadata": {
    "id": "e4gZzwRnPpWw"
   },
   "source": [
    "<a id=\"submitting\"></a>\n",
    "## Submitting"
   ]
  },
  {
   "cell_type": "markdown",
   "id": "8760d1a9",
   "metadata": {
    "id": "HuKzBe8IYqBT"
   },
   "source": [
    "**Submit your empty assignment to Gradescope now to see the autograder output!**\n",
    "You will submit your assignment via [`Gradescope`](https://www.gradescope.com), where we have an autograder set up.\n",
    "You can submit your assignment any number of times before the deadline.\n",
    "As a general rule of thumb, we recommend submitting early and often in any `Computer Science` class if you have the option, to prevent any last minute errors with autograders.\n",
    "Submitting early also helps gauge how you are doing on the visible test cases of the autograder and gives you a chance to fix your submission accordingly.\n",
    "In fact, start with submitting your assignment now (even if you haven't coded anything), so that you are familiar with the submission process and know what kind of autograder feedback is available to you.\n",
    "You can re-submit as you make progress.\n",
    "Don't forget to update your submission with your final version once you are done!"
   ]
  },
  {
   "cell_type": "markdown",
   "id": "721cac82",
   "metadata": {
    "id": "XCMk0AEJYupX"
   },
   "source": [
    "**Environment.**\n",
    "Before you submit, make sure your code works in the environment described in the [`Environment Check`](#environment_check) section, as this is the environment our autograder will be run on.\n",
    "If you have completed the setup steps in `PA0` and run this notebook in the `cs124` environment you created according to the instructions, you are good!\n",
    "Note that you must not use any other dependencies (such as other `Python` modules), as doing so may cause the autograder to fail!"
   ]
  },
  {
   "cell_type": "markdown",
   "id": "8048c814",
   "metadata": {
    "id": "9DjXAbXQYxcD"
   },
   "source": [
    "**Saving Your Notebook**.\n",
    "Make sure to save the recent changes in your notebook before you submit.\n",
    "This is especially important if you are running your notebook on `Google Colab` as connection quality sometimes cause your notebook to be in an unsaved state.\n",
    "The following error is also common on `Google Colab`, if the file you are working on is open in more than one tabs, so we are recommending keeping copies of your work.\n",
    "```\n",
    "This file was updated remotely or in another tab. To force a save, overwriting the last update, select Save from the File menu\n",
    "```"
   ]
  },
  {
   "cell_type": "markdown",
   "id": "80a4f01a",
   "metadata": {
    "id": "lMSPTRReQFXo"
   },
   "source": [
    "**Files.**\n",
    "Once you are done, you only need to submit the file listed below.\n",
    "**DO NOT** alter the file name.\n",
    "```\n",
    "pa0.ipynb\n",
    "```"
   ]
  },
  {
   "cell_type": "markdown",
   "id": "cae31e36",
   "metadata": {
    "id": "iRZdYG4raTMj"
   },
   "source": [
    "**Submission Script.**\n",
    "For your convenience, we are providing the following submission script that lets you automatically create a `zip` file to submit.\n",
    "Simply run it and submit `submission.zip` to `Gradescope`.\n",
    "Note that the script assumes that you have the `zip` utility installed.\n",
    "You would need to install it if you don't already have it.\n",
    "\n",
    "If you run this cell, it will create a file called `submission.zip` in your PA0 directory. For this assignment, we are just adding `pa0.ipynb` to the `zip` file."
   ]
  },
  {
   "cell_type": "code",
   "execution_count": null,
   "id": "3df6a743",
   "metadata": {
    "colab": {
     "base_uri": "https://localhost:8080/"
    },
    "id": "3UmC4xynbYbc",
    "outputId": "0d94f413-1c61-41ea-84b8-938461060afe",
    "tags": [
     "exploration"
    ]
   },
   "outputs": [],
   "source": [
    "%%bash\n",
    "\n",
    "if [[ ! -f \"./pa0.ipynb\" ]]\n",
    "then\n",
    "    echo \"WARNING: Did not find notebook in Jupyter working directory. This probably means you're running on Google Colab. You'll need to go to File->Download .ipynb to download your notebok and other files, then zip them locally. See the README for more information.\"\n",
    "else\n",
    "    echo \"Found notebook file, creating submission zip...\"\n",
    "    zip -r submission.zip pa0.ipynb\n",
    "fi"
   ]
  },
  {
   "cell_type": "markdown",
   "id": "ef96c3e2",
   "metadata": {
    "id": "rC7Ji3nxbo2Z"
   },
   "source": [
    "If you are running your notebook on `Google Colab`, see the `README` for instructions on how to submit.\n"
   ]
  },
  {
   "cell_type": "markdown",
   "id": "91d8a46a",
   "metadata": {
    "id": "mHHWQZvAZPZ4"
   },
   "source": [
    "**Autograder.**\n",
    "Once you submit, wait until the autograder finishes running on your assignment (this may anywhere from a few minutes to an hour). Double check the autograder output to ensure that your submission didn't cause any error. If there is an error (such as Gradescope timing out on your submission, a bug that doesn't allow cells to run, etc.), the default grade is a 0! We want you to get credit for the work you do, so please make sure to verify\n",
    "\n",
    "(Note: After submitting your assignment, you will likely get an email from Gradescope saying \"Successfully submitted...\" - this just means that your files were uploaded, NOT that the autograder ran with no errors on your files!)"
   ]
  },
  {
   "cell_type": "markdown",
   "id": "0cbde1c6",
   "metadata": {
    "id": "D2CHv9gjPhDT"
   },
   "source": [
    "<a id=\"environment_check\"></a>\n",
    "## Environment Check"
   ]
  },
  {
   "cell_type": "markdown",
   "id": "7d286ec9",
   "metadata": {
    "id": "wo-3PXRzIPeM"
   },
   "source": [
    "Any time you work on an assignment for CS124, you need to activate the `cs124` Conda environment that you set up.\n",
    "\n",
    "If you forgot to do so before opening this notebook, please exit this notebook, kill the notebook server with `CTRL-C`, and try running:\n",
    "\n",
    "`$ conda activate cs124`\n",
    "\n",
    "Then restarting your notebook server with\n",
    "\n",
    "`$ jupyter notebook`\n",
    "\n",
    "If this doesn't work, you should go back and follow the installation instructions in `PA0` before proceeding."
   ]
  },
  {
   "cell_type": "markdown",
   "id": "c4f5efa8",
   "metadata": {
    "id": "D2CHv9gjPhDT"
   },
   "source": [
    "<a id=\"questions\"></a>\n",
    "## Part 1: Questions"
   ]
  },
  {
   "cell_type": "markdown",
   "id": "60910d86",
   "metadata": {
    "id": "wo-3PXRzIPeM"
   },
   "source": [
    "<a id='jupyter'></a>\n",
    "**Verify Jupyter.**\n",
    "\n",
    "Here, you should verify that you are able to use `Jupyter` (or, if you cannot use `Jupyter`, you are able to use `Google Colab` instead)."
   ]
  },
  {
   "cell_type": "code",
   "execution_count": null,
   "id": "3d03f3ab",
   "metadata": {},
   "outputs": [],
   "source": [
    "# TODO: Change one of the variables to True based on what works for you!\n",
    "def jupyter_configured():\n",
    "    jupyter_works_for_me = False\n",
    "    jupyter_doesnt_but_colab_works_for_me = False\n",
    "    return jupyter_works_for_me or jupyter_doesnt_but_colab_works_for_me"
   ]
  },
  {
   "cell_type": "markdown",
   "id": "2155fe05",
   "metadata": {},
   "source": [
    "After modifying the cell above, the next cell should be True! If it isn't, make sure that you completed the above TODO correctly."
   ]
  },
  {
   "cell_type": "code",
   "execution_count": null,
   "id": "746f1904",
   "metadata": {},
   "outputs": [],
   "source": [
    "jupyter_configured()"
   ]
  },
  {
   "cell_type": "markdown",
   "id": "a4897148",
   "metadata": {
    "id": "wo-3PXRzIPeM"
   },
   "source": [
    "<a id='environment'></a>\n",
    "**Verify Conda Environment.**\n",
    "\n",
    "Here, you should verify that you have set up your `cs124` conda environment properly."
   ]
  },
  {
   "cell_type": "markdown",
   "id": "1cdae2c0",
   "metadata": {},
   "source": [
    "The cell below checks that you are running the correct version of `Python` and activated the `cs124` conda environment.\n",
    "If you are running the notebook on `Google Colab`, you need to download the `Python` extra modules we use in the assignment separately.\n",
    "If the cell below returns `False`, it means that you are either using the wrong `Conda` environment\n",
    "or Python version!\n",
    "You'll want to follow the instructions in [`Environment Check`](#environment_check) above."
   ]
  },
  {
   "cell_type": "code",
   "execution_count": null,
   "id": "dc5153dd",
   "metadata": {},
   "outputs": [],
   "source": [
    "import os\n",
    "import sys\n",
    "\n",
    "environment_correct = os.environ['CONDA_DEFAULT_ENV'] == \"cs124\"\n",
    "python_version_correct = sys.version_info.major == 3 and sys.version_info.minor == 8\n",
    "print(environment_correct and python_version_correct)"
   ]
  },
  {
   "cell_type": "code",
   "execution_count": null,
   "id": "93e21a79",
   "metadata": {},
   "outputs": [],
   "source": [
    "# TODO: Change this to True once the above cell is True!\n",
    "def environment_configured():\n",
    "    return False"
   ]
  },
  {
   "cell_type": "code",
   "execution_count": null,
   "id": "e1cad69d",
   "metadata": {},
   "outputs": [],
   "source": [
    "environment_configured()"
   ]
  },
  {
   "cell_type": "markdown",
   "id": "ff4923fb",
   "metadata": {
    "id": "wo-3PXRzIPeM"
   },
   "source": [
    "<a id='jupyter'></a>\n",
    "**Verify Submission Guidelines.**\n",
    "\n",
    "There are a few **very important** things to keep in mind when submitting your assignments to Gradescope. Let's make sure we're all on the same page!\n",
    "\n",
    "Please read the [`Submitting`] section if you haven't already - especially the section on the autograder! Especially the following points:\n",
    "- Wait until the autograder finishes running on your submission!\n",
    "    - Click on the assignment you submitted and wait on that page for 5-10 minutes after you submit to make sure the autograder finishes.\n",
    "    - If it hasn't, come back after 1 hour or so; if there is a timeout/other error that prevents the autograder from fully running your code, or it still hasn't finished, we may not be able grade it and it'll be a 0!\n",
    "    - **We want you to get points and don't want you to get a 0**, so please make sure you verify that the autograder finishes running on your assignment.\n",
    "    - This is also why you should **submit early and often** as Dan always says! (Technically any submission made before 4:59pm PT will be considered, but if the autograder times out / fails to run on your code, you run the risk of getting a 0.)\n",
    "- The \"Successfully submitted ...\" email that you might get from Gradescope after you press \"Submit\" just means that it has received your files and is now processing them. It doesn't mean that it actually successfully processed the files with the autograder yet!\n",
    "    - So again, the only way to make sure your submission was truly successful is to wait until the autograder finishes running and to make sure the autograder didn't reach any roadblocks with your code."
   ]
  },
  {
   "cell_type": "code",
   "execution_count": null,
   "id": "20efc605",
   "metadata": {},
   "outputs": [],
   "source": [
    "# TODO: Change the return statement to return True once you have read the above guidelines!\n",
    "def i_have_read_the_guidelines_above():\n",
    "    return False"
   ]
  },
  {
   "cell_type": "code",
   "execution_count": null,
   "id": "0eadffc0",
   "metadata": {},
   "outputs": [],
   "source": [
    "i_have_read_the_guidelines_above()"
   ]
  },
  {
   "cell_type": "markdown",
   "id": "9692346a",
   "metadata": {
    "id": "2O2n-GyiIIVT"
   },
   "source": [
    "<a id=\"ending_remarks\"></a>\n",
    "## Ending Remarks"
   ]
  },
  {
   "cell_type": "markdown",
   "id": "e785e916",
   "metadata": {
    "id": "8pI3K3ewfb2g"
   },
   "source": [
    "Congratulations, you are done with the assignment!\n",
    "Refer to the [`Submitting`](#submitting) for submission instructions.\n",
    "\n",
    "Here is the cell that creates your `submission.zip` again so it contains the most recent version of this file! Remember to run all cells prior to running this cell below!\n",
    "\n",
    "After your `submission.zip` is created (or updated with your most recent version of the assignment), you will see it in your PA0 folder, and you can upload it to Gradescope."
   ]
  },
  {
   "cell_type": "code",
   "execution_count": null,
   "id": "34bf5028",
   "metadata": {
    "colab": {
     "base_uri": "https://localhost:8080/"
    },
    "id": "3UmC4xynbYbc",
    "outputId": "0d94f413-1c61-41ea-84b8-938461060afe",
    "tags": [
     "exploration"
    ]
   },
   "outputs": [],
   "source": [
    "%%bash\n",
    "\n",
    "if [[ ! -f \"./pa0.ipynb\" ]]\n",
    "then\n",
    "    echo \"WARNING: Did not find notebook in Jupyter working directory. This probably means you're running on Google Colab. You'll need to go to File->Download .ipynb to download your notebok and other files, then zip them locally. See the README for more information.\"\n",
    "else\n",
    "    echo \"Found notebook file, creating submission zip...\"\n",
    "    zip -r submission.zip pa0.ipynb\n",
    "fi"
   ]
  },
  {
   "cell_type": "code",
   "execution_count": null,
   "id": "91c4ba24",
   "metadata": {},
   "outputs": [],
   "source": []
  }
 ],
 "metadata": {
  "kernelspec": {
   "display_name": "cs124",
   "language": "python",
   "name": "cs124"
  },
  "language_info": {
   "codemirror_mode": {
    "name": "ipython",
    "version": 3
   },
   "file_extension": ".py",
   "mimetype": "text/x-python",
   "name": "python",
   "nbconvert_exporter": "python",
   "pygments_lexer": "ipython3",
   "version": "3.8.5"
  }
 },
 "nbformat": 4,
 "nbformat_minor": 5
}
