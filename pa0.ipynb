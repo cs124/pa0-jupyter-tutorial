{
 "cells": [
  {
   "cell_type": "markdown",
   "metadata": {
    "id": "ZX6M7xdN4B0e"
   },
   "source": [
    "Welcome To CS 124's Python and Jupyter Tutorial!\n",
    "---\n",
    "Created by Krishna Patel (kpatel7@stanford.edu)\n",
    "\n",
    "Updated by Bryan Kim (bskim96@stanford.edu), Winter 2020-2021."
   ]
  },
  {
   "cell_type": "markdown",
   "metadata": {
    "pycharm": {
     "name": "#%% md\n"
    }
   },
   "source": [
    "### Jupyter Notebooks\n",
    "\n",
    "If you're reading this, it means you got your Jupyter notebook server up\n",
    "and running and were able to open the notebook.\n",
    "\n",
    "It's possible that this is your first time working with an iPython/Jupyter\n",
    "notebook. If it isn't, feel free to skip this section. If it is, here's a quick\n",
    "rundown:"
   ]
  },
  {
   "cell_type": "markdown",
   "metadata": {
    "pycharm": {
     "name": "#%% md\n"
    }
   },
   "source": [
    "Jupyter notebooks are similar to Python scripts, except that they are comprised\n",
    "of cells of Python code or text that can be run and modified separately and\n",
    "out-of-order. They provide an easy way to modify and test code snippets, or to\n",
    "provide explanations and visualizations to accompany your code.\n",
    "\n",
    "Jupyter notebooks contain two types of cells:\n",
    "\n",
    "* Text (markdown) cells like this one\n",
    "* Executable (python) cells like the one below\n",
    "\n",
    "Text cells can be edited by double-clicking them. In general, you shouldn't\n",
    "need to do this on any of the notebooks, though, as only your code will\n",
    "be graded.\n",
    "\n",
    "On the other hand, executable cells, like the one below, contain Python code\n",
    "that you can run. You can run a cell by selecting it and clicking the \"run\"\n",
    "button in the toolbar above (with the play symbol), or, more easily, by pressing\n",
    "CTRL-Enter. You can try it on the cell below:"
   ]
  },
  {
   "cell_type": "code",
   "execution_count": null,
   "metadata": {
    "pycharm": {
     "name": "#%%\n"
    }
   },
   "outputs": [],
   "source": [
    "print(\"I'm an executable cell\")"
   ]
  },
  {
   "cell_type": "markdown",
   "metadata": {
    "pycharm": {
     "name": "#%% md\n"
    }
   },
   "source": [
    "The output of any cell (i.e. print statements) will be shown below it after it\n",
    "is run. Alternatively, if the last line of a cell is a variable, it will print\n",
    "that variable's value. For example:"
   ]
  },
  {
   "cell_type": "code",
   "execution_count": null,
   "metadata": {
    "pycharm": {
     "name": "#%%\n"
    }
   },
   "outputs": [],
   "source": [
    "var = \"I am a string.\"\n",
    "\n",
    "var"
   ]
  },
  {
   "cell_type": "markdown",
   "metadata": {
    "pycharm": {
     "name": "#%% md\n"
    }
   },
   "source": [
    "Notebooks will save your changes automatically every 2 minutes, but\n",
    "to be safe we recommend saving frequently as you edit/make changes. You can\n",
    "save with the save button on the toolbar or the usual shortcut\n",
    "(CTRL-s or CMD-s)."
   ]
  },
  {
   "cell_type": "markdown",
   "metadata": {
    "pycharm": {
     "name": "#%% md\n"
    }
   },
   "source": [
    "You can use the arrow keys to navigate between cells."
   ]
  },
  {
   "cell_type": "markdown",
   "metadata": {
    "pycharm": {
     "name": "#%% md\n"
    }
   },
   "source": [
    "As you're editing the notebook, you may want to add new cells. You can do this\n",
    "from the toolbar with the '+' button, or the Insert menu, or the shortcuts 'a'\n",
    "(to insert a cell above) or 'b' to insert a cell below. You can try this here\n",
    "(select this cell and hit 'b').\n",
    "\n",
    "\n",
    "Note that by default, a created\n",
    "cell will be a code cell. You can change the type of a cell by selecting it and\n",
    "hitting 'y' for code, 'm' for text/markdown (or using the Cell menu). Try it\n",
    "on your newly created cell."
   ]
  },
  {
   "cell_type": "markdown",
   "metadata": {
    "pycharm": {
     "name": "#%% md\n"
    }
   },
   "source": [
    "If the state of your notebook gets messed up, you'd like to stop your currently\n",
    "running code, or you want to run things from scratch you may want to:\n",
    "\n",
    "* Stop the notebook kernel (the stop button in the toolbar, or from the Kernel\n",
    "tab up in the toolbar), or\n",
    "* Restart the notebook kernel (the circular arrow button in the toolbar,\n",
    "or from the Kernel tab up in the toolbar)."
   ]
  },
  {
   "cell_type": "markdown",
   "metadata": {
    "pycharm": {
     "name": "#%% md\n"
    }
   },
   "source": [
    "Optionally, you may want to restart the kernel (reset the notebook back to a\n",
    "clean slate) and then run all the cells in-order in one go. You can do this\n",
    "using the fast-forward button on the toolbar, or from the Kernel tab up in\n",
    "the toolbar.\n",
    "\n",
    "Feel free to try stopping the kernel, restarting it, or restarting it and\n",
    "running all cells now to see what happens."
   ]
  },
  {
   "cell_type": "markdown",
   "metadata": {
    "pycharm": {
     "name": "#%% md\n"
    }
   },
   "source": [
    "That should cover everything you need to know to get started! There's a little\n",
    "more info on some of the confusing aspects of Jupyter notebooks at the\n",
    "end if you get to Exercise 7.\n",
    "\n",
    "P.S. If you'd like to see the full list of shortcuts, just hit 'h'."
   ]
  },
  {
   "cell_type": "markdown",
   "source": [
    "__NOTE__: You may see that in the top toolbar of your notebook, it says\n",
    "\"Not Trusted\", just to the left of where it says the name\n",
    "of your environment (\"Python [conda env: cs124]\"). You don't need to worry about\n",
    "this for this or any future notebooks, you can just leave it as untrusted."
   ],
   "metadata": {
    "collapsed": false,
    "pycharm": {
     "name": "#%% md\n"
    }
   }
  },
  {
   "cell_type": "markdown",
   "metadata": {
    "pycharm": {
     "name": "#%% md\n"
    }
   },
   "source": [
    "### Installation Check\n",
    "\n",
    "Before we write any code, let's check that you're running the correct version of\n",
    "Python and in the right environment!"
   ]
  },
  {
   "cell_type": "code",
   "execution_count": null,
   "metadata": {
    "pycharm": {
     "name": "#%%\n"
    }
   },
   "outputs": [],
   "source": [
    "import os\n",
    "assert os.environ['CONDA_DEFAULT_ENV'] == \"cs124\"\n",
    "\n",
    "import sys\n",
    "assert sys.version_info.major == 3 and sys.version_info.minor == 8"
   ]
  },
  {
   "cell_type": "markdown",
   "metadata": {
    "pycharm": {
     "name": "#%% md\n"
    }
   },
   "source": [
    "If the above cell complains (prints out an error when run),\n",
    "it means that you're using the wrong environment or Python version!\n",
    "\n",
    "If so, please exit this notebook (you can just close the browser tab),\n",
    "go to the terminal window that you ran `jupyter notebook` in,\n",
    "and kill the notebook server by typing CTRL-C (and then \"y\" when\n",
    "asked if you want to shutdown). Then,\n",
    "try running\n",
    "\n",
    "$ conda activate cs124\n",
    "\n",
    "and restarting your notebook server with\n",
    "\n",
    "$ jupyter notebook\n",
    "\n",
    "If that doesn't work, you should go back and follow the setup + installation\n",
    "instructions in the README.md file that came with this notebook."
   ]
  },
  {
   "cell_type": "markdown",
   "metadata": {
    "id": "A2G5nuI04XHB"
   },
   "source": [
    "## Exercises\n",
    "\n",
    "Below are some quick Python exercises to get you warmed up.\n",
    "\n",
    "**Exercise 1 -- True and False**\n",
    "\n",
    "Using the bool() function, which converts inputs into Boolean values,\n",
    "we'll explore the \"truthiness\" and \"falseness\" of different values."
   ]
  },
  {
   "cell_type": "code",
   "execution_count": null,
   "metadata": {
    "colab": {
     "base_uri": "https://localhost:8080/",
     "height": 55
    },
    "executionInfo": {
     "elapsed": 840,
     "status": "ok",
     "timestamp": 1579043550321,
     "user": {
      "displayName": "Krishna Kartik Patel",
      "photoUrl": "",
      "userId": "00785950259150756327"
     },
     "user_tz": 480
    },
    "id": "IOpKcLfC4F0j",
    "outputId": "abdd1d26-83f2-4de1-85b3-1cb363e50193"
   },
   "outputs": [],
   "source": [
    "bool(True) # should be True"
   ]
  },
  {
   "cell_type": "code",
   "execution_count": null,
   "metadata": {
    "colab": {
     "base_uri": "https://localhost:8080/",
     "height": 55
    },
    "executionInfo": {
     "elapsed": 421,
     "status": "ok",
     "timestamp": 1579043556471,
     "user": {
      "displayName": "Krishna Kartik Patel",
      "photoUrl": "",
      "userId": "00785950259150756327"
     },
     "user_tz": 480
    },
    "id": "R7Jofiqq4qB4",
    "outputId": "da5abddb-913c-4cf3-9d36-85a24979963e"
   },
   "outputs": [],
   "source": [
    "bool(False) # should be False"
   ]
  },
  {
   "cell_type": "code",
   "execution_count": null,
   "metadata": {
    "colab": {
     "base_uri": "https://localhost:8080/",
     "height": 55
    },
    "executionInfo": {
     "elapsed": 553,
     "status": "ok",
     "timestamp": 1579043561100,
     "user": {
      "displayName": "Krishna Kartik Patel",
      "photoUrl": "",
      "userId": "00785950259150756327"
     },
     "user_tz": 480
    },
    "id": "3Fwig5FK4sw-",
    "outputId": "64a2f81e-f063-42c3-91ed-00c73e3d31e6"
   },
   "outputs": [],
   "source": [
    "True == 1 # True is equivalent to 1 in Python"
   ]
  },
  {
   "cell_type": "code",
   "execution_count": null,
   "metadata": {
    "colab": {
     "base_uri": "https://localhost:8080/",
     "height": 55
    },
    "executionInfo": {
     "elapsed": 840,
     "status": "ok",
     "timestamp": 1579043566513,
     "user": {
      "displayName": "Krishna Kartik Patel",
      "photoUrl": "",
      "userId": "00785950259150756327"
     },
     "user_tz": 480
    },
    "id": "g0B1Zxi74uAa",
    "outputId": "6a99556e-b05d-4eb1-a07b-22cb23e72ea5"
   },
   "outputs": [],
   "source": [
    "False == 0 # False is equivalent to 0 in Python"
   ]
  },
  {
   "cell_type": "code",
   "execution_count": null,
   "metadata": {
    "colab": {
     "base_uri": "https://localhost:8080/",
     "height": 55
    },
    "executionInfo": {
     "elapsed": 866,
     "status": "ok",
     "timestamp": 1579043578266,
     "user": {
      "displayName": "Krishna Kartik Patel",
      "photoUrl": "",
      "userId": "00785950259150756327"
     },
     "user_tz": 480
    },
    "id": "pZErtBzr40Vm",
    "outputId": "e19302e6-ff9b-46d7-a440-2e0ef61e9128"
   },
   "outputs": [],
   "source": [
    "bool(8) # Any number that is not 0 will evaluate to True"
   ]
  },
  {
   "cell_type": "code",
   "execution_count": null,
   "metadata": {
    "colab": {
     "base_uri": "https://localhost:8080/",
     "height": 55
    },
    "executionInfo": {
     "elapsed": 509,
     "status": "ok",
     "timestamp": 1579043583118,
     "user": {
      "displayName": "Krishna Kartik Patel",
      "photoUrl": "",
      "userId": "00785950259150756327"
     },
     "user_tz": 480
    },
    "id": "m44s87UQ47jz",
    "outputId": "1c18b580-9cfc-4754-c263-ce195568f701"
   },
   "outputs": [],
   "source": [
    "bool(None) # None is \"False\""
   ]
  },
  {
   "cell_type": "code",
   "execution_count": null,
   "metadata": {
    "id": "u3KtiKEp5Auw"
   },
   "outputs": [],
   "source": [
    "bool([]) # Objects that are empty (ie an empty list) are also False"
   ]
  },
  {
   "cell_type": "code",
   "execution_count": null,
   "metadata": {
    "id": "dMG-Kzah5Si7"
   },
   "outputs": [],
   "source": [
    "bool([1,2])"
   ]
  },
  {
   "cell_type": "code",
   "execution_count": null,
   "metadata": {
    "id": "a7xKOatG5dg_"
   },
   "outputs": [],
   "source": [
    "# See how we can utilize these properties in an \n",
    "# if statement by changing the values of x\n",
    "\n",
    "x = -1\n",
    "print(\"The boolean value of x is \" + str(bool(x)))\n",
    "\n",
    "if x:\n",
    "  print(\"x is True\")\n",
    "else:\n",
    "  print(\"x is False\")\n"
   ]
  },
  {
   "cell_type": "markdown",
   "metadata": {
    "id": "TSiHJHaP6e4w"
   },
   "source": [
    "**Exercise 2 -- Looping Issues**\n",
    "\n",
    "Explore the following code to see why modifying something you're\n",
    "looping over is dangerous."
   ]
  },
  {
   "cell_type": "code",
   "execution_count": null,
   "metadata": {
    "colab": {
     "base_uri": "https://localhost:8080/",
     "height": 161
    },
    "executionInfo": {
     "elapsed": 913,
     "status": "ok",
     "timestamp": 1579043976685,
     "user": {
      "displayName": "Krishna Kartik Patel",
      "photoUrl": "",
      "userId": "00785950259150756327"
     },
     "user_tz": 480
    },
    "id": "ihkmkFdJ6Ju-",
    "outputId": "5001647d-ed38-442c-b3f2-f9d942025b26"
   },
   "outputs": [],
   "source": [
    "# This code attempts to print the list element by element\n",
    "# while deleting each element after it is printed \n",
    "\n",
    "greetings = ['hello', 'hi', 'salve', 'ciao', 'bonjour', 'hola']\n",
    "\n",
    "for elem in greetings:                         \n",
    "    print(elem) \n",
    "    # Remove first element           \n",
    "    greetings.pop(0)\n",
    "    print(\"Current state of greetings: \" + str(greetings))\n",
    "  \n",
    "print(\"Final state of greetings: \" + str(greetings))"
   ]
  },
  {
   "cell_type": "markdown",
   "metadata": {
    "id": "13RHvEfe8X5D"
   },
   "source": [
    "What went wrong? (It's never a good idea to modify a list as you're\n",
    "looping through it)"
   ]
  },
  {
   "cell_type": "markdown",
   "metadata": {
    "id": "874B4FUW8aBz"
   },
   "source": [
    "**Exercise 3 -- Using Reserved Names**\n",
    "\n",
    "In this exercise we'll explore what happens when we \"overwrite\" names in Python."
   ]
  },
  {
   "cell_type": "code",
   "execution_count": null,
   "metadata": {
    "colab": {
     "base_uri": "https://localhost:8080/",
     "height": 35
    },
    "executionInfo": {
     "elapsed": 1015,
     "status": "ok",
     "timestamp": 1579050678897,
     "user": {
      "displayName": "Krishna Kartik Patel",
      "photoUrl": "",
      "userId": "00785950259150756327"
     },
     "user_tz": 480
    },
    "id": "EEHrEnCB7Uj1",
    "outputId": "53510bff-9a14-4490-f7da-472af6ceda23"
   },
   "outputs": [],
   "source": [
    "# This function usually creates a list\n",
    "list()"
   ]
  },
  {
   "cell_type": "markdown",
   "metadata": {},
   "source": [
    "#### The following cell will raise a TypeError"
   ]
  },
  {
   "cell_type": "code",
   "execution_count": null,
   "metadata": {
    "colab": {
     "base_uri": "https://localhost:8080/",
     "height": 239
    },
    "executionInfo": {
     "elapsed": 1036,
     "status": "error",
     "timestamp": 1579050683613,
     "user": {
      "displayName": "Krishna Kartik Patel",
      "photoUrl": "",
      "userId": "00785950259150756327"
     },
     "user_tz": 480
    },
    "id": "0VScEYxd8vvl",
    "outputId": "4cfb3670-cd47-4dea-d6a6-8d585084bc0a"
   },
   "outputs": [],
   "source": [
    "# But we want to name our list list\n",
    "list = [1, 2, 3]\n",
    "print(list)\n",
    "\n",
    "# Let's make a new list\n",
    "print(\"Attempting to make a new list ...\")\n",
    "new_list = list()"
   ]
  },
  {
   "cell_type": "markdown",
   "metadata": {
    "id": "ryLdWD3r9G5V"
   },
   "source": [
    "To prevent this, stay away from using the names of default Python functions\n",
    "as variables.\n",
    "\n",
    "To fix it, let's delete our poorly named list and try it again.\n",
    "\n",
    "__Note:__ Running this cell multiple times will raise an error because you can\n",
    "only delete `list` once."
   ]
  },
  {
   "cell_type": "code",
   "execution_count": null,
   "metadata": {},
   "outputs": [],
   "source": [
    "del list\n",
    "new_list = list()\n",
    "print(new_list)"
   ]
  },
  {
   "cell_type": "markdown",
   "metadata": {
    "id": "MuUQqcsB9SkK"
   },
   "source": [
    "**Exercise 4 -- Slicing Python Lists**\n",
    "\n",
    "In this exercise, we'll practice slicing lists in Python."
   ]
  },
  {
   "cell_type": "code",
   "execution_count": null,
   "metadata": {
    "id": "cKqUtXjn83kJ"
   },
   "outputs": [],
   "source": [
    "nums = [0, 1, 2, 3, 4, 5]"
   ]
  },
  {
   "cell_type": "code",
   "execution_count": null,
   "metadata": {
    "id": "TRgkebu3-voY"
   },
   "outputs": [],
   "source": [
    "# slice from index 2 inclusive to 5 exclusive\n",
    "nums[2:5]"
   ]
  },
  {
   "cell_type": "code",
   "execution_count": null,
   "metadata": {
    "id": "2qU6m63s-5dl"
   },
   "outputs": [],
   "source": [
    "# slice from the beginning to index 3 exclusive\n",
    "nums[:3]"
   ]
  },
  {
   "cell_type": "code",
   "execution_count": null,
   "metadata": {
    "id": "jVtXHmsp_Av9"
   },
   "outputs": [],
   "source": [
    "# slice from index 3 inclusive to the end\n",
    "nums[3:]"
   ]
  },
  {
   "cell_type": "code",
   "execution_count": null,
   "metadata": {
    "id": "v357rm2B_GBc"
   },
   "outputs": [],
   "source": [
    "# \"slice\" the entire list / copy the list\n",
    "nums[:]"
   ]
  },
  {
   "cell_type": "markdown",
   "metadata": {
    "id": "Pu4hUIfr_RFg"
   },
   "source": [
    "**Exercise 5 -- Copying Data Structures**\n",
    "\n",
    "Run the following code to determine how data structures are copied in Python."
   ]
  },
  {
   "cell_type": "code",
   "execution_count": null,
   "metadata": {
    "colab": {
     "base_uri": "https://localhost:8080/",
     "height": 55
    },
    "executionInfo": {
     "elapsed": 861,
     "status": "ok",
     "timestamp": 1579044847184,
     "user": {
      "displayName": "Krishna Kartik Patel",
      "photoUrl": "",
      "userId": "00785950259150756327"
     },
     "user_tz": 480
    },
    "id": "3Jx9hsn1_J5v",
    "outputId": "676ed5d3-325f-46b8-e272-6e850d01d2a7"
   },
   "outputs": [],
   "source": [
    "# Create a dictionary\n",
    "d = {'one': 1, 'two': 2}\n",
    "\n",
    "d"
   ]
  },
  {
   "cell_type": "code",
   "execution_count": null,
   "metadata": {
    "colab": {
     "base_uri": "https://localhost:8080/",
     "height": 55
    },
    "executionInfo": {
     "elapsed": 874,
     "status": "ok",
     "timestamp": 1579044860251,
     "user": {
      "displayName": "Krishna Kartik Patel",
      "photoUrl": "",
      "userId": "00785950259150756327"
     },
     "user_tz": 480
    },
    "id": "3gLEbjtt_pBv",
    "outputId": "c1d6660c-742f-4235-e2c4-ead81cb892fc"
   },
   "outputs": [],
   "source": [
    "# Try to copy d\n",
    "\n",
    "copy = d\n",
    "\n",
    "copy"
   ]
  },
  {
   "cell_type": "code",
   "execution_count": null,
   "metadata": {
    "colab": {
     "base_uri": "https://localhost:8080/",
     "height": 55
    },
    "executionInfo": {
     "elapsed": 489,
     "status": "ok",
     "timestamp": 1579044867133,
     "user": {
      "displayName": "Krishna Kartik Patel",
      "photoUrl": "",
      "userId": "00785950259150756327"
     },
     "user_tz": 480
    },
    "id": "WHdpYiDW_znG",
    "outputId": "f2641412-346a-4206-8fe7-c6efc80c74bd"
   },
   "outputs": [],
   "source": [
    "# Modify the copy\n",
    "\n",
    "copy['three'] = 3\n",
    "\n",
    "copy"
   ]
  },
  {
   "cell_type": "code",
   "execution_count": null,
   "metadata": {
    "colab": {
     "base_uri": "https://localhost:8080/",
     "height": 55
    },
    "executionInfo": {
     "elapsed": 950,
     "status": "ok",
     "timestamp": 1579044874969,
     "user": {
      "displayName": "Krishna Kartik Patel",
      "photoUrl": "",
      "userId": "00785950259150756327"
     },
     "user_tz": 480
    },
    "id": "NxgcJWTw_6mw",
    "outputId": "72347f96-d625-4f78-e6d2-34668a2672a5"
   },
   "outputs": [],
   "source": [
    "# See if d remains unchanged\n",
    "d"
   ]
  },
  {
   "cell_type": "markdown",
   "metadata": {
    "id": "U_hAENwa_9qe"
   },
   "source": [
    "What happened here?"
   ]
  },
  {
   "cell_type": "markdown",
   "metadata": {
    "id": "30GSRCf0CnIB"
   },
   "source": [
    "**Exercise 6 -- Regular Expressions**"
   ]
  },
  {
   "cell_type": "code",
   "execution_count": null,
   "metadata": {
    "id": "b_nGqyQjC_dH"
   },
   "outputs": [],
   "source": [
    "# Let's import the Python standard regular expression library\n",
    "import re"
   ]
  },
  {
   "cell_type": "markdown",
   "metadata": {
    "pycharm": {
     "name": "#%% md\n"
    }
   },
   "source": [
    "As we recall from the modules, regular expressions are a way of defining\n",
    "patterns that we're interested in. They are usually used to\n",
    "search for patterns in strings, or check if a string matches a pattern."
   ]
  },
  {
   "cell_type": "code",
   "execution_count": null,
   "metadata": {
    "pycharm": {
     "name": "#%%\n"
    }
   },
   "outputs": [],
   "source": [
    "# For example, you could use a comma as your regex pattern and use that pattern\n",
    "# to split a string.\n",
    "\n",
    "input_str = \"a::b,c.d,e;:f,g\"\n",
    "\n",
    "# It's a good habit to mark regex strings with the \"r\" prefix. In this\n",
    "# case it doesn't matter, but when using some special regex (escape) characters\n",
    "# like \\b, \\w, etc. it is needed for the regex to be read correctly.\n",
    "\n",
    "# This matches a single comma\n",
    "pattern = r\",\"\n",
    "\n",
    "tokens = re.split(pattern, input_str)\n",
    "\n",
    "tokens"
   ]
  },
  {
   "cell_type": "code",
   "execution_count": null,
   "metadata": {
    "pycharm": {
     "name": "#%%\n"
    }
   },
   "outputs": [],
   "source": [
    "# Or we could be a bit fancier, and allow our pattern to be any character in\n",
    "# a set. Bracket notation [] indicates that we can match any of the characters\n",
    "# in the brackets.\n",
    "\n",
    "# This matches any ONE character in the set(a period, comma, semicolon, or\n",
    "# colon). Note that because period (\".\") is a special character in regexes, we\n",
    "# need to tell regex that we mean a normal period, not the special character.\n",
    "# To do this, we \"escape\" the period character by putting a backslash \"\\\"\n",
    "# before it.\n",
    "pattern = r\"[\\.,;:]\"\n",
    "\n",
    "tokens = re.split(pattern, input_str)\n",
    "\n",
    "tokens"
   ]
  },
  {
   "cell_type": "code",
   "execution_count": null,
   "metadata": {
    "pycharm": {
     "name": "#%%\n"
    }
   },
   "outputs": [],
   "source": [
    "# Or we could even use special operators to describe more specific patterns.\n",
    "# For example, the \"+\" operator means that it will match the thing to its left\n",
    "# at least once, but possibly multiple times. Note that if the thing to the left\n",
    "# is a set, it could be a different character from that set each time.\n",
    "\n",
    "# This matches any sequence of one or more characters from the set\n",
    "# [.,;:].\n",
    "pattern = r\"[\\.,;:]+\"\n",
    "\n",
    "tokens = re.split(pattern, input_str)\n",
    "\n",
    "tokens"
   ]
  },
  {
   "cell_type": "code",
   "execution_count": null,
   "metadata": {
    "pycharm": {
     "name": "#%%\n"
    }
   },
   "outputs": [],
   "source": [
    "# We can also use regexes to find all the times a specific pattern appears\n",
    "# in a string.\n",
    "# For example, what if we wanted to find all the instances of the word \"dog\"\n",
    "# in a text.\n",
    "\n",
    "text = \"\"\"F\n",
    "I love my dog Spot! Spot is the best dog in the world. He likes playing\n",
    "with other dogs at the park. But he doesn't like cats, he is scared of them.\n",
    "Today I will take him to the dog park. One time he saw a cat there and got so\n",
    "scared he wanted to go home.\n",
    "\"\"\"\n",
    "\n",
    "# This matches just the 3-character sequence \"dog\"\n",
    "pattern = r\"dog\"\n",
    "\n",
    "tokens = re.findall(pattern, text)\n",
    "\n",
    "tokens"
   ]
  },
  {
   "cell_type": "code",
   "execution_count": null,
   "metadata": {
    "pycharm": {
     "name": "#%%\n"
    }
   },
   "outputs": [],
   "source": [
    "# There are also other operators we can use, like ? to match the thing to its\n",
    "# left 0 or 1 times (in other words, it is optional).\n",
    "\n",
    "# This matches \"dog\" followed by an optional s.\n",
    "pattern = r\"dog[s]?\"\n",
    "\n",
    "tokens = re.findall(pattern, text)\n",
    "\n",
    "tokens"
   ]
  },
  {
   "cell_type": "code",
   "execution_count": null,
   "metadata": {
    "pycharm": {
     "name": "#%%\n"
    }
   },
   "outputs": [],
   "source": [
    "# Or we can match multiple possibilities (i.e. A or B)\n",
    "\n",
    "# This matches \"dog\" or \"cat\".\n",
    "pattern = r\"(dog|cat)\"\n",
    "\n",
    "tokens = re.findall(pattern, text)\n",
    "\n",
    "tokens"
   ]
  },
  {
   "cell_type": "code",
   "execution_count": null,
   "metadata": {
    "pycharm": {
     "name": "#%%\n"
    }
   },
   "outputs": [],
   "source": [
    "# A particularly common operator is the star \"*\" operator. It matches 0 or more\n",
    "# of the thing to its left. For example, we can use it to match any word that\n",
    "# starts with an a (an a or A at the start of a word, followed by 0 or more of\n",
    "# any letter).\n",
    "\n",
    "# We can use the \\b symbol to match the start of a word.\n",
    "# and the \\w symbol to match a letter.\n",
    "# See https://docs.python.org/3/library/re.html for details and other\n",
    "# special symbols.\n",
    "\n",
    "# This matches any word starting with an a or A\n",
    "pattern = r\"\\b[aA]\\w*\"\n",
    "\n",
    "tokens = re.findall(pattern, text)\n",
    "\n",
    "tokens"
   ]
  },
  {
   "cell_type": "code",
   "execution_count": null,
   "metadata": {
    "id": "fUjm3sZECarI"
   },
   "outputs": [],
   "source": [
    "# Beyond the re.findall() function, we also often use re.search() if we want\n",
    "# more flexible control over how we match/search\n",
    "# (example from https://www.w3schools.com/python/python_regex.asp)\n",
    "\n",
    "# re.search() is slightly more complicated than re.findall(), because it\n",
    "# doesn't just return a list of matches as strings. It instead returns a Python\n",
    "# match object that contains more detailed information about the match.\n",
    "\n",
    "# NOTE: period (\".\") is a special character indicating any character (except\n",
    "# a newline). \"^\" matches the start of a string and \"$\" matches the end of a\n",
    "# string.\n",
    "\n",
    "text = r\"The rain in Spain\"\n",
    "match = re.search(r\"^The.*Spain$\", text)\n",
    "\n",
    "# Print the match object\n",
    "print(match)\n",
    "\n",
    "# Find the first (and only) match\n",
    "print(match[0])\n",
    "\n",
    "# Get the original string back\n",
    "print(match.string)\n",
    "\n",
    "# Get the group (the entire part of the string where the match happened)\n",
    "print(match.group())\n",
    "\n",
    "# Find the span, the tuple (start_index, end_index).\n",
    "# In other words the positions (from the start of the string, counting from\n",
    "# 0), where the match starts and ends.\n",
    "print(\"span: \" + str(match.span()))"
   ]
  },
  {
   "cell_type": "code",
   "execution_count": null,
   "metadata": {
    "id": "-Jjf6PbpC9lA"
   },
   "outputs": [],
   "source": [
    "# We can also use capture groups (in parentheses) to indicate\n",
    "# parts of the match that we want to save so that we can use them separately\n",
    "\n",
    "# Using your knowledge of regexes from the previous examples, what does this\n",
    "# pattern mean? What do you expect it to do/match from text? What parts of text\n",
    "# will fall in each of the 3 capture groups?\n",
    "ai_match = re.search(r\"(.*?)ai(.*?)ai(.*)\", text)"
   ]
  },
  {
   "cell_type": "code",
   "execution_count": null,
   "metadata": {
    "id": "fXvBtEdVDhf1"
   },
   "outputs": [],
   "source": [
    "# Let's check if your guesses were correct:\n",
    "\n",
    "# Entire match\n",
    "ai_match.group(0)"
   ]
  },
  {
   "cell_type": "code",
   "execution_count": null,
   "metadata": {
    "id": "B65YzEsFEVTP"
   },
   "outputs": [],
   "source": [
    "# First capturing group \n",
    "ai_match.group(1)"
   ]
  },
  {
   "cell_type": "code",
   "execution_count": null,
   "metadata": {
    "id": "B7dRS1RSEurW"
   },
   "outputs": [],
   "source": [
    "# Second capturing group\n",
    "ai_match.group(2)"
   ]
  },
  {
   "cell_type": "code",
   "execution_count": null,
   "metadata": {
    "id": "rDqEUeNhE2sT"
   },
   "outputs": [],
   "source": [
    "# Third capturing group\n",
    "ai_match.group(3)"
   ]
  },
  {
   "cell_type": "markdown",
   "metadata": {
    "id": "DC7jMTXdJwuQ"
   },
   "source": [
    "Let's try a more difficult example: \n",
    "\n",
    "Try to extract the inside of an HTML Tag that follows the following rules:\n",
    "\n",
    "*   Start tags start with \"<,\" have at least 1 alpha numeric character\n",
    "and then end with \">\"\n",
    "*   End tags start with \"</\", have at least 1 alpha numeric characters\n",
    "and then end with \">\"\n",
    "*   There can be any character between the two tags\n",
    "\n",
    "Here are some examples example of the text:\n",
    "\n",
    "`<html>`this is what we want to extract`</html>`\n",
    "\n",
    "don't want`<h1>`what we want `</h1>` don't want\n",
    "\n",
    "---\n",
    "\n",
    "If you want to make it harder make sure you pass this test case, since\n",
    "technically HTML tags must match (the contents of the start tag must match\n",
    "the contents of the end tag):\n",
    "\n",
    "`<html>`this is what we want to extract `</h1>` `</html>` \n",
    "\n",
    "You should extract: this is what we want to extract `</h1>`"
   ]
  },
  {
   "cell_type": "code",
   "execution_count": null,
   "metadata": {
    "id": "tejzB5MRLNDS"
   },
   "outputs": [],
   "source": [
    "# Try to solve this here\n",
    "\n",
    "test_str1 = \"<html>this is what we want to extract</html>\"\n",
    "test_str2 = \"don't want<h1>what we want </h1> don't want\"\n",
    "\n",
    "hard_case = \"<html>this is what we want to extract </h1> </html>\""
   ]
  },
  {
   "cell_type": "markdown",
   "metadata": {
    "id": "sNynBmNuLaP6"
   },
   "source": [
    "Solved it? You can find the answer [here](https://colab.research.google.com/drive/1IQ8LqxGY8B0A0ecqgHQrSfb34pCMUQFE) "
   ]
  },
  {
   "cell_type": "markdown",
   "metadata": {
    "id": "UydjsI7wIHRG"
   },
   "source": [
    "Let's try a longer example: \n",
    "\n",
    "Try to match a URL that follows the following rules:\n",
    "\n",
    "* the URL must start with http or https followed by ://\n",
    "* the domain name can only be alphanumeric or contain \".\" or \"-\"\n",
    "* can contain a port specification (http://abc.com:80) (you can assume ports\n",
    "go from 0 to 99)\n",
    "* after the port, the URL can contain any number of  alphanumeric digits,\n",
    "dots and hyphens"
   ]
  },
  {
   "cell_type": "code",
   "execution_count": null,
   "metadata": {
    "id": "8m69MJFNeF57"
   },
   "outputs": [],
   "source": [
    "# Try to solve this here\n",
    "\n",
    "test_str1 = \"http://www.google.com\"\n",
    "test_str2 = \"https://www.gmail.com:88/hello-hi\"\n",
    "test_str3 = \"http://abd-fh.8rhgyt.org:90/h-\"\n"
   ]
  },
  {
   "cell_type": "markdown",
   "metadata": {
    "id": "kTA6xxBvefBv"
   },
   "source": [
    "Done? You can find the answer [here](https://colab.research.google.com/drive/1BrNRHLnpu_1W9bsKZzS1Vk9P6xuE7f_i)!"
   ]
  },
  {
   "cell_type": "markdown",
   "metadata": {
    "pycharm": {
     "name": "#%% md\n"
    }
   },
   "source": [
    "**Exercise 7 -- Jupyter Quirks**\n",
    "\n",
    "Before we wrap up with the Python review, there's one more thing we'd like to\n",
    "show you. This will be pretty important for your future homework assignments,\n",
    "so we encourage you to read till the end and not skip this part!\n",
    "\n",
    "If you've gotten this far, that means you've figured out the basics of how to\n",
    "walk through a Jupyter notebook. As we're sure you've noticed, Jupyter notebooks\n",
    "are a bit different from the sort of Python scripting you may be familiar\n",
    "with.\n",
    "\n",
    "As a result, there are a few things that can cause confusion or trip students\n",
    "up and are worth keeping in mind:"
   ]
  },
  {
   "cell_type": "markdown",
   "metadata": {
    "pycharm": {
     "name": "#%% md\n"
    }
   },
   "source": [
    "The most important thing to remember about Jupyter/IPython notebooks is that\n",
    "every time you run a cell, you're changing the global state of the notebook.\n",
    "In other words, every time a cell is run, it\n",
    "\n",
    "For example, try running this cell:"
   ]
  },
  {
   "cell_type": "code",
   "execution_count": null,
   "metadata": {
    "pycharm": {
     "name": "#%%\n"
    }
   },
   "outputs": [],
   "source": [
    "print(this_variable_has_not_been_defined_yet)"
   ]
  },
  {
   "cell_type": "markdown",
   "metadata": {
    "pycharm": {
     "name": "#%% md\n"
    }
   },
   "source": [
    "The cell should give an error, complaining that\n",
    "\n",
    "```\n",
    "NameError: name 'this_variable_has_not_been_defined_yet' is not defined\n",
    "```\n",
    "\n",
    "Now try running this cell:"
   ]
  },
  {
   "cell_type": "code",
   "execution_count": null,
   "metadata": {
    "pycharm": {
     "name": "#%%\n"
    }
   },
   "outputs": [],
   "source": [
    "this_variable_has_not_been_defined_yet = \"until right now!\""
   ]
  },
  {
   "cell_type": "markdown",
   "metadata": {
    "pycharm": {
     "name": "#%% md\n"
    }
   },
   "source": [
    "And now go back and run the previous cell. It worked now!\n",
    "What gives?\n",
    "\n",
    "The reason it worked this time is that when you ran the previous cell, it\n",
    "changed the state of the notebook, creating the new variable. This new variable\n",
    "now exists and is accessible from __ALL__ cells\n",
    "in the notebook that you run from now on! This applies to any future cell\n",
    "you run anywhere in the notebook, whether it be \"above\" or \"below\" the\n",
    "current cell.\n",
    "\n",
    "It doesn't matter what order the cells appear in the notebook; the only\n",
    "thing that matters is the order that the cells were run in! This is something\n",
    "important to keep in mind as your notebooks become longer and more complex,\n",
    "with lots of cells. If you run into weird or unexpected behavior in your\n",
    "notebook, it probably has something to do with the order in which you\n",
    "executed your cells!"
   ]
  },
  {
   "cell_type": "markdown",
   "metadata": {
    "pycharm": {
     "name": "#%% md\n"
    }
   },
   "source": [
    "Another corollary of the above fact is that you should be mindful of the side\n",
    "effects of your cells! We'll show you what we mean with an example.\n",
    "\n",
    "Let's create a variable:"
   ]
  },
  {
   "cell_type": "code",
   "execution_count": null,
   "metadata": {
    "pycharm": {
     "name": "#%%\n"
    }
   },
   "outputs": [],
   "source": [
    "counter = 0"
   ]
  },
  {
   "cell_type": "markdown",
   "metadata": {
    "pycharm": {
     "name": "#%% md\n"
    }
   },
   "source": [
    "And now we'll try incrementing it once and printing it. Simple, right? What\n",
    "result would you expect if you ran the cell below (yes, it's obvious. please\n",
    "just humor us for now)?"
   ]
  },
  {
   "cell_type": "code",
   "execution_count": null,
   "metadata": {
    "pycharm": {
     "name": "#%%\n"
    }
   },
   "outputs": [],
   "source": [
    "counter += 1\n",
    "print(counter)"
   ]
  },
  {
   "cell_type": "markdown",
   "metadata": {
    "pycharm": {
     "name": "#%% md\n"
    }
   },
   "source": [
    "As you no doubt expected, it printed a 1! Now try running the same cell again a\n",
    "few more times.\n",
    "What do you expect the result to be? What actually happened?"
   ]
  },
  {
   "cell_type": "markdown",
   "metadata": {
    "pycharm": {
     "name": "#%% md\n"
    }
   },
   "source": [
    "You should find that it prints 2, 3, 4, ... and so on!\n",
    "\n",
    "This may or may not surprise you. Often students who haven't worked with\n",
    "Jupyter notebooks before can find this counter-intuitive, as it seems\n",
    "natural to expect that the same part of your code should produce the same\n",
    "output every time.\n",
    "\n",
    "The reason why that isn't true here is because of the global\n",
    "state issue that we showed above. Every time you run a cell, it's not\n",
    "just redoing the same calculation from the same starting point. It's also\n",
    "updating the global state of the notebook! Any changes you make to variables\n",
    "persist, and will affect every future cell that you run.\n",
    "\n",
    "In this particular case, it's not too confusing, and it's pretty easy to\n",
    "grasp what's going on. But in a huge notebook with many cells, each containing\n",
    "possibly complex logic with complicated or subtle side effects, this behavior\n",
    "can often cause problems!"
   ]
  },
  {
   "cell_type": "markdown",
   "metadata": {
    "pycharm": {
     "name": "#%% md\n"
    }
   },
   "source": [
    "As a result, a good tip when working with Jupyter notebooks is to try to avoid\n",
    "making the side effects of your cells too complicated. Or at least try to keep\n",
    "clear in your head which cells have side effects (and so can't be run many times\n",
    "reproducibly) and which don't.\n",
    "\n",
    "Obviously it's impossible to totally avoid cross-cell side effects, because if\n",
    "you did it would defeat the purpose of using a Jupyter notebook at all!\n",
    "You'd have to have one giant cell with all of your code, or have each cell only\n",
    "do self-contained work, which wouldn't be very interesting or useful! The global\n",
    "state maintained by notebooks is what makes them useful and powerful, but\n",
    "it can also be a major point of pain and confusion if you're not careful.\n",
    "\n",
    "__TLDR:__ If you run into weird behavior or notebook issues, try thinking\n",
    "carefully about how things are affecting the global state of your\n",
    "notebook.\n",
    "\n",
    "\n",
    "Best of luck with your future Jupyter adventures! Jupyter/iPython\n",
    "notebooks are an awesome tool for visualization, working with data,\n",
    "and doing quick prototyping. We hope they can become a useful tool in your\n",
    "toolbox if they aren't already!"
   ]
  },
  {
   "cell_type": "markdown",
   "metadata": {
    "pycharm": {
     "name": "#%% md\n"
    }
   },
   "source": [
    "If you're interested in learning a little more Jupyter-foo, check out some of\n",
    "these links. Even if you're relatively experienced with Jupyter,\n",
    "it's likely that many of the tips below will be new to you!\n",
    "\n",
    "* https://www.dataquest.io/blog/jupyter-notebook-tips-tricks-shortcuts/\n",
    "* https://towardsdatascience.com/optimizing-jupyter-notebook-tips-tricks-and-nbextensions-26d75d502663\n",
    "* https://towardsdatascience.com/15-tips-and-tricks-to-use-jupyter-notebook-more-efficiently-ef05ede4e4b9\n"
   ]
  },
  {
   "cell_type": "markdown",
   "metadata": {
    "id": "rtq-S9arHkLQ"
   },
   "source": [
    "## Bonus"
   ]
  },
  {
   "cell_type": "markdown",
   "metadata": {
    "pycharm": {
     "name": "#%% md\n"
    }
   },
   "source": [
    "Want more practice with regular expressions? Try [this question](https://www.learnpython.org/en/Regular_Expressions) with your neighbor!"
   ]
  },
  {
   "cell_type": "markdown",
   "metadata": {
    "id": "cW-IVH-hHsdG"
   },
   "source": [
    "Done with that as well? Complete the python tutorial [here](https://www.learnpython.org/en/Welcome). We recommend looking at the following sections:\n",
    "\n",
    "* Variables and Types\n",
    "* Lists\n",
    "* Basic Operators\n",
    "* String Formatting\n",
    "* Basic String Operations\n",
    "* Conditions\n",
    "* Loops\n",
    "* Functions\n",
    "* Dictionaries\n",
    "* Modules and Packages\n",
    "* Numpy Arrays\n",
    "* Generators\n",
    "* List Comprehensions\n",
    "* Regular Expressions\n",
    "* Sets\n",
    "* Decorators"
   ]
  }
 ],
 "metadata": {
  "colab": {
   "collapsed_sections": [],
   "name": "CS124 Python Exercises.ipynb",
   "provenance": []
  },
  "kernelspec": {
   "display_name": "Python [conda env:cs124] *",
   "language": "python",
   "name": "conda-env-cs124-py"
  },
  "language_info": {
   "codemirror_mode": {
    "name": "ipython",
    "version": 3
   },
   "file_extension": ".py",
   "mimetype": "text/x-python",
   "name": "python",
   "nbconvert_exporter": "python",
   "pygments_lexer": "ipython3",
   "version": "3.8.5"
  }
 },
 "nbformat": 4,
 "nbformat_minor": 1
}